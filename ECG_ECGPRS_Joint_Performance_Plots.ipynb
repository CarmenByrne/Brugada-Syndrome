{
 "cells": [
  {
   "cell_type": "code",
   "execution_count": null,
   "id": "e9e919f0",
   "metadata": {},
   "outputs": [],
   "source": [
    "import pandas as pd\n",
    "import numpy as np\n",
    "from sklearn.calibration import calibration_curve\n",
    "import matplotlib.lines as mlines\n",
    "import matplotlib.transforms as mtransforms\n",
    "from matplotlib import pyplot as plt\n",
    "import seaborn as sns\n",
    "from sklearn.metrics import auc, roc_curve, precision_recall_curve"
   ]
  },
  {
   "cell_type": "code",
   "execution_count": null,
   "id": "c3275bd6",
   "metadata": {},
   "outputs": [],
   "source": [
    "ecg_per_sample = pd.read_csv(\"Plots_performance_test_set/ecg_predictions_per_sample.csv\", sep =\",\")\n",
    "ecg_per_patient = pd.read_csv(\"Plots_performance_test_set/ecg_predictions_per_patient.csv\", sep =\",\")\n",
    "ecg_prs_per_sample = pd.read_csv(\"Plots_performance_test_set/ecg_prs_predictions_per_sample.csv\", sep =\",\")\n",
    "ecg_prs_per_patient = pd.read_csv(\"Plots_performance_test_set/ecg_prs_predictions_per_patient.csv\", sep =\",\")"
   ]
  },
  {
   "cell_type": "code",
   "execution_count": null,
   "id": "8655401e",
   "metadata": {},
   "outputs": [],
   "source": [
    "ecg_per_sample_labels = ecg_per_sample[\"label_per_sample\"]\n",
    "ecg_per_sample_proba = ecg_per_sample[\"prediction_per_sample\"]\n",
    "\n",
    "ecg_per_patient_labels = ecg_per_patient[\"label_per_sample\"]\n",
    "ecg_per_patient_proba = ecg_per_patient[\"prediction_per_sample\"]\n",
    "\n",
    "ecg_prs_per_sample_labels = ecg_prs_per_sample[\"label_per_sample\"]\n",
    "ecg_prs_per_sample_proba = ecg_prs_per_sample[\"prediction_per_sample\"]\n",
    "\n",
    "ecg_prs_per_patient_labels = ecg_prs_per_patient[\"label_per_sample\"]\n",
    "ecg_prs_per_patient_proba = ecg_prs_per_patient[\"prediction_per_sample\"]"
   ]
  },
  {
   "cell_type": "code",
   "execution_count": null,
   "id": "a72523fa",
   "metadata": {},
   "outputs": [],
   "source": [
    "def bin_total(y_true, y_prob, n_bins):\n",
    "    bins = np.linspace(0., 1. + 1e-8, n_bins + 1)\n",
    "\n",
    "    # In sklearn.calibration.calibration_curve,\n",
    "    # the last value in the array is always 0.\n",
    "    binids = np.digitize(y_prob, bins) - 1\n",
    "    return np.bincount(binids, minlength=len(bins))"
   ]
  },
  {
   "cell_type": "code",
   "execution_count": null,
   "id": "aad1e0ec",
   "metadata": {},
   "outputs": [],
   "source": [
    "# bin data and normalise counts\n",
    "def counts_to_percentages(probabilities):\n",
    "    bin0_01 = 0\n",
    "    bin01_02=0\n",
    "    bin02_03=0\n",
    "    bin03_04=0\n",
    "    bin04_05=0\n",
    "    bin05_06=0\n",
    "    bin06_07=0\n",
    "    bin07_08=0\n",
    "    bin08_09=0\n",
    "    bin09_1=0 \n",
    "    \n",
    "    for val in probabilities:\n",
    "    \n",
    "        if val <0.1:\n",
    "            bin0_01 = bin0_01 + 1\n",
    "    \n",
    "        elif val >= 0.1 and val <0.2:\n",
    "            bin01_02= bin01_02 +1 \n",
    "    \n",
    "        elif val >= 0.2 and val <0.3:\n",
    "            bin02_03= bin02_03 +1 \n",
    "    \n",
    "        elif val >= 0.3 and val <0.4:\n",
    "                bin03_04= bin03_04 +1\n",
    "    \n",
    "        elif val >= 0.4 and val <0.5:\n",
    "                bin04_05= bin04_05 +1 \n",
    "    \n",
    "        elif val >= 0.5 and val <0.6:\n",
    "                bin05_06= bin05_06 +1 \n",
    "    \n",
    "        elif val >= 0.6 and val <0.7:\n",
    "                    bin06_07= bin06_07 +1 \n",
    "    \n",
    "        elif val >= 0.7 and val <0.8:\n",
    "                    bin07_08= bin07_08 +1 \n",
    "    \n",
    "        elif val >= 0.8 and val <0.9:\n",
    "                    bin08_09= bin08_09 +1 \n",
    "    \n",
    "        elif val >= 0.9 :\n",
    "                    bin09_1= bin09_1 +1 \n",
    "                \n",
    "    counts = [bin0_01, bin01_02, bin02_03, bin03_04, bin04_05,\n",
    "             bin05_06, bin06_07, bin07_08, bin08_09, bin09_1]    \n",
    "    \n",
    "    percentages = counts/np.sum(counts)  *100\n",
    "    \n",
    "    return percentages\n",
    "    "
   ]
  },
  {
   "cell_type": "code",
   "execution_count": null,
   "id": "7138a929",
   "metadata": {},
   "outputs": [],
   "source": [
    "#plot all calibration plots and histograms together\n",
    "def calibration_together (ecg_labels, ecg_probas, ecg_prs_labels, ecg_prs_probas, plot_name): \n",
    "    print(\"plot curves and save in one png file\")\n",
    "    #save three plots in one png file\n",
    "    fig_index = 1\n",
    "    \n",
    "    #save three plots in one png file\n",
    "    fig, (ax1, ax2) = plt.subplots(nrows=2, figsize=(15, 20))    \n",
    "    \n",
    "    # compute calibration curve ECG model\n",
    "    y, x = calibration_curve(ecg_labels, ecg_probas, n_bins=10)\n",
    "    #find out which one are the missing bins\n",
    "    bin_array = bin_total(y, x , n_bins=10)   \n",
    "    ax1.plot(x, y, 'C2',marker='o', linewidth=1.2, label='ECG model', color = \"blue\")\n",
    "    ax1.set(xlabel= 'Predicted score', ylabel= 'True frequency in each bin')\n",
    "\n",
    "    # plot calibration curve ECG PRS model\n",
    "    y, x = calibration_curve(ecg_prs_labels, ecg_prs_probas, n_bins=10)\n",
    "    #find out which one are the missing bins\n",
    "    bin_array2 = bin_total(y, x , n_bins=10)\n",
    "    ax1.plot(x, y, 'C3',marker='o', linewidth=1, label='ECG+PRS model', color = \"orange\")\n",
    "    \n",
    "    line = mlines.Line2D([0, 1], [0, 1], color='black', linestyle='--', linewidth=0.9, label= \"Perfectly calibrated\")\n",
    "    transform = ax1.transAxes\n",
    "    line.set_transform(transform)\n",
    "    ax1.add_line(line)     \n",
    "    ax1.legend(loc=\"upper left\") \n",
    "    #plt.rcParams.update({\"font.size\": 25})\n",
    "  \n",
    "    #HISTOGRAMS    \n",
    "    x = np.arange(0,1,0.1)\n",
    "\n",
    "    # histogram ECG model\n",
    "    y = counts_to_percentages(ecg_probas) #if instead of % want values in [0,1], do: y = counts_to_percentages(LR_proba)/100\n",
    "        \n",
    "    ax2.hist(x, range=(0, 1), bins=10, weights= y, label='ECG model',\n",
    "                 histtype=\"step\", lw=2.5, color = \"blue\") #change density = True to normalise area under the hist to 1\n",
    "    \n",
    "    #hist ECG PRS model\n",
    "    y = counts_to_percentages(ecg_prs_probas) #if instead of % want values in [0,1], do: y = counts_to_percentages(GBT_proba)/100\n",
    "    ax2.hist(x, range=(0, 1), bins=10, weights= y, label='ECG+PRS model',\n",
    "                 histtype=\"step\", lw=1.5, color = \"orange\")\n",
    "    \n",
    "    ax2.set_xlabel(\"Mean predicted score\")\n",
    "    ax2.set_ylabel(\"Percentage of counts\")\n",
    "    ax2.legend(loc=\"upper center\")\n",
    "    ax2.set_ylim([0,100]) #if instead of % want probabilities, change to [0,1] \n",
    "    #plt.rcParams.update({\"font.size\": 25})\n",
    "    #plt.tight_layout()\n",
    "    plt.rc(\"axes\", labelsize=25)\n",
    "    plt.rc(\"legend\", fontsize=20)\n",
    "    plt.rc(\"xtick\", labelsize = 20)\n",
    "    plt.rc(\"ytick\", labelsize = 20)\n",
    "    plt.savefig(\"Plots_performance_test_set/\" + plot_name+\".png\")\n",
    "    #plt.show()   \n"
   ]
  },
  {
   "cell_type": "code",
   "execution_count": null,
   "id": "a765614c",
   "metadata": {},
   "outputs": [],
   "source": [
    "calibration_together(ecg_per_sample_labels, ecg_per_sample_proba, ecg_prs_per_sample_labels, ecg_prs_per_sample_proba,\"Calibration curves for ECG and ECG-PRS mdoels per sample\")"
   ]
  },
  {
   "cell_type": "code",
   "execution_count": null,
   "id": "d6020e79",
   "metadata": {},
   "outputs": [],
   "source": [
    "calibration_together(ecg_per_sample_labels, ecg_per_sample_proba, ecg_prs_per_sample_labels, ecg_prs_per_sample_proba,\"Calibration curves for ECG and ECG-PRS mdoels per sample\")"
   ]
  },
  {
   "cell_type": "code",
   "execution_count": null,
   "id": "494bbd8a",
   "metadata": {},
   "outputs": [],
   "source": [
    "calibration_together(ecg_per_patient_labels, ecg_per_patient_proba, ecg_prs_per_patient_labels, ecg_prs_per_patient_proba,\"Calibration curves for ECG and ECG-PRS mdoels per patient\")"
   ]
  },
  {
   "cell_type": "markdown",
   "id": "2588d563",
   "metadata": {},
   "source": [
    "# ROC"
   ]
  },
  {
   "cell_type": "code",
   "execution_count": null,
   "id": "311f86e8",
   "metadata": {},
   "outputs": [],
   "source": [
    "def ROC_curves(ecg_labels, ecg_probas, ecg_prs_labels, ecg_prs_probas, plot_name):\n",
    "    f, ax = plt.subplots(figsize=(10,10))\n",
    "    ecg_fpr, ecg_tpr, thresholds = roc_curve(ecg_labels, ecg_probas)\n",
    "    ecg_auc_coef = round(auc(ecg_fpr, ecg_tpr),2)\n",
    "    ax.plot(ecg_fpr, ecg_tpr, marker=\".\", label = \" ECG model - AUC: \" + str(ecg_auc_coef), color = \"blue\")\n",
    "    \n",
    "    ecg_prs_fpr, ecg_prs_tpr, thresholds_prs = roc_curve(ecg_prs_labels, ecg_prs_probas)\n",
    "    ecg_prs_auc_coef = round(auc(ecg_prs_fpr, ecg_prs_tpr),2)\n",
    "    ax.plot(ecg_prs_fpr, ecg_prs_tpr, marker=\".\", label = \" ECG+PRS model - AUC: \" + str(ecg_prs_auc_coef), color = \"orange\")\n",
    "    \n",
    "    ax.plot([0,1], [0,1], transform = ax.transAxes, linestyle=\"--\", label=\"Random Classifier\")\n",
    "    ax.set_ylim(bottom=0, top = 1)\n",
    "    ax.set_xlim([0,1])\n",
    "    ax.set_xlabel(\"False Positive Rate\")\n",
    "    ax.set_ylabel(\"True Positive Rate\")\n",
    "    #ax.set_title(\"ROC\")\n",
    "    plt.rc(\"axes\", labelsize=25)\n",
    "    plt.rc(\"legend\", fontsize=20)\n",
    "    #plt.rcParams.update({\"font.size\": 25})\n",
    "    ax.legend()\n",
    "    plt.savefig(\"Plots_performance_test_set/\" + plot_name)"
   ]
  },
  {
   "cell_type": "code",
   "execution_count": null,
   "id": "a112f6cd",
   "metadata": {},
   "outputs": [],
   "source": [
    "ROC_curves(ecg_per_sample_labels, ecg_per_sample_proba, ecg_prs_per_sample_labels, ecg_prs_per_sample_proba,\"ROC curves for ECG and ECG-PRS mdoels per sample\")"
   ]
  },
  {
   "cell_type": "code",
   "execution_count": null,
   "id": "720fd3ec",
   "metadata": {},
   "outputs": [],
   "source": [
    "ROC_curves(ecg_per_sample_labels, ecg_per_sample_proba, ecg_prs_per_sample_labels, ecg_prs_per_sample_proba,\"ROC curves for ECG and ECG-PRS mdoels per sample\")"
   ]
  },
  {
   "cell_type": "code",
   "execution_count": null,
   "id": "d2e4293a",
   "metadata": {},
   "outputs": [],
   "source": [
    "ROC_curves(ecg_per_patient_labels, ecg_per_patient_proba, ecg_prs_per_patient_labels, ecg_prs_per_patient_proba,\"ROC curves for ECG and ECG-PRS mdoels per patient\")"
   ]
  },
  {
   "cell_type": "code",
   "execution_count": null,
   "id": "d74f0e46",
   "metadata": {},
   "outputs": [],
   "source": [
    "def PR_curves(ecg_labels, ecg_probas, ecg_prs_labels, ecg_prs_probas, plot_name):\n",
    "    f, ax = plt.subplots(figsize=(10,10))\n",
    "    ecg_precision, ecg_recall, thresholds = precision_recall_curve(ecg_labels, ecg_probas)\n",
    "    ecg_auprc_coef = round(auc(ecg_recall, ecg_precision),2)\n",
    "    ax.plot(ecg_recall, ecg_precision, marker=\".\", label = \" ECG model - AUPRC: \" + str(ecg_auprc_coef), color = \"blue\")\n",
    "    \n",
    "    ecg_prs_precision, ecg_prs_recall, thresholds_prs = precision_recall_curve(ecg_prs_labels, ecg_prs_probas)\n",
    "    ecg_prs_auprc_coef = round(auc(ecg_prs_recall, ecg_prs_precision),2)\n",
    "    ax.plot(ecg_prs_recall, ecg_prs_precision, marker=\".\", label = \" ECG+PRS model - AUPRC: \" + str(ecg_prs_auprc_coef), color = \"orange\")\n",
    "    \n",
    "    ax.set_ylim(bottom=0, top = 1)\n",
    "    ax.set_xlim([0,1])\n",
    "    ax.set_xlabel(\"Recall (Positive label: BrP)\")\n",
    "    ax.set_ylabel(\"Precision (Positive label: BrP)\")\n",
    "    ax.legend()\n",
    "    #plt.rcParams.update({\"font.size\": 25})\n",
    "    plt.rc(\"axes\", labelsize=25)\n",
    "    plt.rc(\"legend\", fontsize=20)\n",
    "    plt.savefig(\"Plots_performance_test_set/\" + plot_name)"
   ]
  },
  {
   "cell_type": "code",
   "execution_count": null,
   "id": "2ab1e175",
   "metadata": {},
   "outputs": [],
   "source": [
    "PR_curves(ecg_per_sample_labels, ecg_per_sample_proba, ecg_prs_per_sample_labels, ecg_prs_per_sample_proba,\"PR curves for ECG and ECG-PRS mdoels per sample\")"
   ]
  },
  {
   "cell_type": "code",
   "execution_count": null,
   "id": "cbf735a6",
   "metadata": {},
   "outputs": [],
   "source": [
    "PR_curves(ecg_per_patient_labels, ecg_per_patient_proba, ecg_prs_per_patient_labels, ecg_prs_per_patient_proba,\"PR curves for ECG and ECG-PRS mdoels per patient\")"
   ]
  },
  {
   "cell_type": "markdown",
   "id": "3c2e1425",
   "metadata": {},
   "source": [
    "# Distribution plots"
   ]
  },
  {
   "cell_type": "markdown",
   "id": "3e708139",
   "metadata": {},
   "source": [
    "## ECG per sample"
   ]
  },
  {
   "cell_type": "code",
   "execution_count": null,
   "id": "90a7be99",
   "metadata": {},
   "outputs": [],
   "source": [
    "sns.set(font_scale= 3)\n",
    "sns.set_style(\"white\")\n",
    "ecg_per_sample = pd.DataFrame({\"label\": ecg_per_sample_labels, \"proba\": ecg_per_sample_proba})\n",
    "g = sns.displot(ecg_per_sample, x=\"proba\", hue=\"label\", element=\"step\", fill=True, stat=\"density\", legend=False, \n",
    "                palette=[\"tab:green\", \"tab:red\"], bins=np.arange(0, 1.1, 0.1), height=10, aspect=1)\n",
    "\n",
    "plt.xlabel('Predicted score')\n",
    "plt.legend(labels=[\"BrP\",\"No BrP\"])\n",
    "plt.savefig(\"Plots_performance_test_set/ECG_ps_discr.png\")"
   ]
  },
  {
   "cell_type": "markdown",
   "id": "b1cff6df",
   "metadata": {},
   "source": [
    "## ECG per patient"
   ]
  },
  {
   "cell_type": "code",
   "execution_count": null,
   "id": "169ecac5",
   "metadata": {},
   "outputs": [],
   "source": [
    "ecg_per_patient = pd.DataFrame({\"label\": ecg_per_patient_labels, \"proba\": ecg_per_patient_proba})\n",
    "g = sns.displot(ecg_per_patient, x=\"proba\", hue=\"label\", element=\"step\", fill=True, stat=\"density\", legend=False, \n",
    "                palette=[\"tab:green\", \"tab:red\"] , bins=np.arange(0, 1.1, 0.1), height=10, aspect=1)\n",
    "plt.xlabel('Predicted score')\n",
    "plt.legend(labels=[\"BrP\",\"No BrP\"])\n",
    "plt.savefig(\"Plots_performance_test_set/ECG_pp_discr.png\")"
   ]
  },
  {
   "cell_type": "markdown",
   "id": "cf286037",
   "metadata": {},
   "source": [
    "## ECG PRS per sample"
   ]
  },
  {
   "cell_type": "code",
   "execution_count": null,
   "id": "8f710bae",
   "metadata": {},
   "outputs": [],
   "source": [
    "ecg_prs_per_sample = pd.DataFrame({\"label\": ecg_prs_per_sample_labels, \"proba\": ecg_prs_per_sample_proba})\n",
    "g = sns.displot(ecg_prs_per_sample, x=\"proba\", hue=\"label\", element=\"step\", fill=True, stat=\"density\", \n",
    "                legend=False, palette=[\"tab:green\", \"tab:red\"], bins=np.arange(0, 1.1, 0.1), height=10, aspect=1)\n",
    "plt.xlabel('Predicted score')\n",
    "plt.legend(labels=[\"BrP\",\"No BrP\"])\n",
    "plt.savefig(\"Plots_performance_test_set/ECG_PRS_ps_discr.png\")"
   ]
  },
  {
   "cell_type": "markdown",
   "id": "37c82079",
   "metadata": {},
   "source": [
    "## ECG PRS per patient"
   ]
  },
  {
   "cell_type": "code",
   "execution_count": null,
   "id": "60bc9c79",
   "metadata": {},
   "outputs": [],
   "source": [
    "ecg_prs_per_patient = pd.DataFrame({\"label\": ecg_prs_per_patient_labels, \"proba\": ecg_prs_per_patient_proba})\n",
    "g = sns.displot(ecg_prs_per_patient, x=\"proba\", hue=\"label\", element=\"step\", fill=True, stat=\"density\", \n",
    "                legend=False, palette=[\"tab:green\", \"tab:red\"], bins=np.arange(0, 1.1, 0.1), height=10, aspect=1)\n",
    "plt.xlabel('Predicted score')\n",
    "plt.legend(labels=[\"BrP\",\"No BrP\"])\n",
    "plt.savefig(\"Plots_performance_test_set/ECG_PRS_pp_discr.png\")"
   ]
  },
  {
   "cell_type": "code",
   "execution_count": null,
   "id": "e223e53d",
   "metadata": {},
   "outputs": [],
   "source": []
  }
 ],
 "metadata": {
  "kernelspec": {
   "display_name": "Python 3",
   "language": "python",
   "name": "python3"
  },
  "language_info": {
   "codemirror_mode": {
    "name": "ipython",
    "version": 3
   },
   "file_extension": ".py",
   "mimetype": "text/x-python",
   "name": "python",
   "nbconvert_exporter": "python",
   "pygments_lexer": "ipython3",
   "version": "3.8.8"
  }
 },
 "nbformat": 4,
 "nbformat_minor": 5
}
