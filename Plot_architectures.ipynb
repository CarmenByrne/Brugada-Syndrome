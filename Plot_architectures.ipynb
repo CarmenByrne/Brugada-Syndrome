{
 "cells": [
  {
   "cell_type": "code",
   "execution_count": null,
   "id": "c5025018",
   "metadata": {},
   "outputs": [],
   "source": [
    "import json\n",
    "from keras.utils.vis_utils import plot_model\n",
    "import keras"
   ]
  },
  {
   "cell_type": "code",
   "execution_count": null,
   "id": "29fd17fc",
   "metadata": {},
   "outputs": [],
   "source": [
    "with open(\"400_dumped/Models_Final_Data/architecture/architecture_Model0.json\", \"r\") as f:\n",
    "    model_loaded = json.load(f)\n",
    "    model0 = keras.models.model_from_json(model_loaded)\n",
    "\n",
    "plot_model(model0, to_file = \"plots_architectures/\" + \"model0.png\", show_shapes = True, show_layer_names = True)"
   ]
  },
  {
   "cell_type": "code",
   "execution_count": null,
   "id": "92fb7edc",
   "metadata": {},
   "outputs": [],
   "source": [
    "with open(\"400_dumped/Models_Final_Data/architecture/architecture_Model1.json\", \"r\") as f:\n",
    "    model_loaded = json.load(f)\n",
    "    model1 = keras.models.model_from_json(model_loaded)\n",
    "\n",
    "plot_model(model1, to_file = \"plots_architectures/\" + \"model1.png\", show_shapes = True, show_layer_names = True)"
   ]
  },
  {
   "cell_type": "code",
   "execution_count": null,
   "id": "152d60e3",
   "metadata": {},
   "outputs": [],
   "source": [
    "with open(\"400_dumped/Models_Final_Data/architecture/architecture_Model6.json\", \"r\") as f:\n",
    "    model_loaded = json.load(f)\n",
    "    model6 = keras.models.model_from_json(model_loaded)\n",
    "\n",
    "plot_model(model6, to_file = \"plots_architectures/\" + \"model6.png\", show_shapes = True, show_layer_names = True)"
   ]
  }
 ],
 "metadata": {
  "kernelspec": {
   "display_name": "Python 3",
   "language": "python",
   "name": "python3"
  },
  "language_info": {
   "codemirror_mode": {
    "name": "ipython",
    "version": 3
   },
   "file_extension": ".py",
   "mimetype": "text/x-python",
   "name": "python",
   "nbconvert_exporter": "python",
   "pygments_lexer": "ipython3",
   "version": "3.8.8"
  }
 },
 "nbformat": 4,
 "nbformat_minor": 5
}
