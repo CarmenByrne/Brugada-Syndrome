{
 "cells": [
  {
   "cell_type": "markdown",
   "id": "cb6e567e",
   "metadata": {},
   "source": [
    "# Imports"
   ]
  },
  {
   "cell_type": "code",
   "execution_count": null,
   "id": "a2d6c72a-5b66-4e5c-bb5c-ac84cfa0426c",
   "metadata": {},
   "outputs": [],
   "source": [
    "from base64 import b64decode\n",
    "import numpy as np\n",
    "import pandas as pd\n",
    "import csv\n",
    "import json\n",
    "import os\n",
    "import glob\n",
    "import datetime\n",
    "from pathlib import Path\n",
    "import matplotlib.pyplot as plt"
   ]
  },
  {
   "cell_type": "markdown",
   "id": "37ea67d6",
   "metadata": {},
   "source": [
    "# Paths to data"
   ]
  },
  {
   "cell_type": "code",
   "execution_count": null,
   "id": "91eb09b8",
   "metadata": {},
   "outputs": [],
   "source": [
    "#clinical data \n",
    "path_clinical_data = \"20210305Ajmaline_AI.sav\"\n",
    "\n",
    "#BrS data\n",
    "path_negative = \"Ajmaline_data_json/negative\"\n",
    "path_positive = \"Ajmaline_data_json/positive\"\n",
    "\n",
    "#directory for output data\n",
    "output_directory = \"DataFilteredByDate/samples\"\n",
    "\n",
    "#directory for labels \n",
    "label_directory = \"DataFilteredByDate/labels/labels.npy\"\n",
    "\n",
    "#directory for information on positive and negative samples\n",
    "info_directory = \"DataFilteredByDate/info/info.csv\""
   ]
  },
  {
   "cell_type": "markdown",
   "id": "ba1ef5ba",
   "metadata": {},
   "source": [
    "# Functions"
   ]
  },
  {
   "cell_type": "code",
   "execution_count": null,
   "id": "1c431604",
   "metadata": {},
   "outputs": [],
   "source": [
    "#puts dates in \"clinical\" in same format as in ECG records\n",
    "#returns dictionary of patient id and test date\n",
    "def dates(clinical):\n",
    "    patient_date = []\n",
    "    clinical[\"Provocation_date\"] = pd.to_datetime(clinical[\"Provocation_date\"])\n",
    "    \n",
    "    for row in np.arange(clinical.shape[0]):\n",
    "        formatted_date = datetime.date.strftime(clinical[\"Provocation_date\"][row], \"%m-%d-%Y\")\n",
    "        dates.append(formatted_date)\n",
    "        \n",
    "    return dates"
   ]
  },
  {
   "cell_type": "code",
   "execution_count": null,
   "id": "37d255bf",
   "metadata": {},
   "outputs": [],
   "source": [
    "def is_ajmaline_tested(data, ajmaline_dates, file_name):\n",
    "    #checks if date from test appears on clinical data (without checking patient number)\n",
    "    \n",
    "    if data[\"RestingECG\"].__contains__(\"TestDemographics\"):\n",
    "        t_demographics = data[\"RestingECG\"][\"TestDemographics\"]\n",
    "        \n",
    "        if t_demographics.__contains__(\"AcquisitionDate\"): \n",
    "            test_date = str(t_demographics[\"AcquisitionDate\"])\n",
    "            \n",
    "            if test_date in ajmaline_dates:\n",
    "                print(file_name)\n",
    "                print(test_date)\n",
    "                print(\"---------\")\n",
    "                return True            \n",
    "            else:\n",
    "                return False\n",
    "        else:\n",
    "            return False\n",
    "    else:\n",
    "        return False"
   ]
  },
  {
   "cell_type": "code",
   "execution_count": null,
   "id": "652876b1",
   "metadata": {},
   "outputs": [],
   "source": [
    "def get_lead_data(data):\n",
    "    lead_I = []\n",
    "    lead_II = []\n",
    "    lead_V1 = []\n",
    "    lead_V2 = []\n",
    "    lead_V3 = []\n",
    "    lead_V4 = []\n",
    "    lead_V5 = []\n",
    "    lead_V6 = []\n",
    "    \n",
    "    lead_indx = {0: lead_I, 1: lead_II, 2: lead_V1, 3: lead_V2, 4: lead_V3,\n",
    "             5: lead_V4, 6: lead_V5, 7: lead_V6}\n",
    "    \n",
    "    #get waveform info\n",
    "    waveform = pd.DataFrame(data[\"RestingECG\"][\"Waveform\"])\n",
    "    \n",
    "    #use rhythm ECG (not median ECG)\n",
    "    rhythm_ecg = waveform[waveform[\"WaveformType\"]==\"Rhythm\"]\n",
    "    \n",
    "    #get elements inside LeadData \n",
    "    lead_data = rhythm_ecg[\"LeadData\"]\n",
    "    \n",
    "    #find ECG data per lead and add offset\n",
    "    for index in lead_indx:\n",
    "        leadoffset = float(lead_data[1][index][\"LeadOffsetFirstSample\"])\n",
    "            \n",
    "        decoded = np.array(np.frombuffer(b64decode(lead_data[1][index][\"WaveFormData\"]), dtype=np.int16)) - leadoffset\n",
    "        lead_indx[index] = decoded\n",
    "        \n",
    "    return lead_indx[0], lead_indx[1], lead_indx[2], lead_indx[3], lead_indx[4], lead_indx[5], lead_indx[6], lead_indx[7]"
   ]
  },
  {
   "cell_type": "code",
   "execution_count": null,
   "id": "de4da6ae",
   "metadata": {},
   "outputs": [],
   "source": [
    "#downsample leads measured at double speed\n",
    "#keeps values at every other index\n",
    "def downsample(lead):    \n",
    "    if len(lead) == 5000:\n",
    "        indeces = np.arange(0,5000,2)\n",
    "        downsampled = lead[indeces]\n",
    "        return downsampled\n",
    "    return lead"
   ]
  },
  {
   "cell_type": "code",
   "execution_count": null,
   "id": "1b09131f",
   "metadata": {},
   "outputs": [],
   "source": [
    "#calculate leads III, aVL, aVR, aVF\n",
    "def calculate_missing_leads(lead_I, lead_II):\n",
    "    lead_III = lead_II - lead_I\n",
    "    lead_aVL = (lead_I - lead_III)/2.0\n",
    "    lead_aVR = (lead_I + lead_II)/(-2.0)\n",
    "    lead_aVF = (lead_II + lead_III)/2.0    \n",
    "    return lead_III, lead_aVL, lead_aVR, lead_aVF"
   ]
  },
  {
   "cell_type": "code",
   "execution_count": null,
   "id": "74ab5944",
   "metadata": {},
   "outputs": [],
   "source": [
    "#normalise each row by its maximum value\n",
    "def normalize(lead):\n",
    "    max_value = max(lead)\n",
    "    if max_value == 0:\n",
    "        max_value = 0.0000000001\n",
    "    normalised = lead/max_value \n",
    "    return normalised"
   ]
  },
  {
   "cell_type": "code",
   "execution_count": null,
   "id": "7d20c3bf",
   "metadata": {},
   "outputs": [],
   "source": [
    "def write_to_npy(file_id, file_directory, array):\n",
    "    file_name = \"id-\" + str(file_id) + \".npy\"\n",
    "    np.save(file_directory + \"/\" + file_name, array)\n",
    "    return"
   ]
  },
  {
   "cell_type": "code",
   "execution_count": null,
   "id": "daa1cb04",
   "metadata": {},
   "outputs": [],
   "source": [
    "def process_data(directory, clinical, pos_or_neg, output_directory, file_id_index, labels):    \n",
    "    ajmaline_dates = dates(clinical)\n",
    "  \n",
    "    #iterate through all file names in the directory\n",
    "    for name in glob.glob(directory + \"/*\"):\n",
    "        #open file\n",
    "        f = open(name) \n",
    "        \n",
    "        #load file as json file\n",
    "        data = json.load(f)         \n",
    "\n",
    "        #check if patient id is in list of patients that were tested with ajmaline\n",
    "        #only keep file if not tested with ajmaline \n",
    "        if is_ajmaline_tested(data,ajmaline_dates, name) is False:\n",
    "\n",
    "            #get file name without directory\n",
    "            base_name = os.path.basename(name)\n",
    "\n",
    "            #extract ecg lead data and decode, save lead per array with base_name and test outcome\n",
    "            #0: negative test, 1: positive test\n",
    "            lead_I, lead_II, lead_V1, lead_V2, lead_V3, lead_V4, lead_V5, lead_V6 = get_lead_data(data)\n",
    "                        \n",
    "            #downsample all leads with 5000 measurements to 2500 measurements   \n",
    "            lead_I = downsample(lead_I)\n",
    "            lead_II = downsample(lead_II)\n",
    "            lead_V1 = downsample(lead_V1)\n",
    "            lead_V2 = downsample(lead_V2)\n",
    "            lead_V3 = downsample(lead_V3)\n",
    "            lead_V4 = downsample(lead_V4)\n",
    "            lead_V5 = downsample(lead_V5)\n",
    "            lead_V6 = downsample(lead_V6)               \n",
    "            \n",
    "            #put different time stamps as different rows\n",
    "            leads = np.array([lead_I, lead_II, lead_V1, lead_V2, lead_V3, lead_V4, lead_V5, lead_V6]).T\n",
    "            \n",
    "            #save label in different list\n",
    "            labels.append([\"id-\" + str(file_id_index), pos_or_neg])            \n",
    "            \n",
    "            #check NaNs\n",
    "            if np.isnan(leads).any():\n",
    "                print(\"Warning: NaNs in sample \", file_id_index)\n",
    "                \n",
    "            #write to npy file\n",
    "            write_to_npy(file_id_index, output_directory, leads)\n",
    "            file_id_index = file_id_index + 1  \n",
    "    \n",
    "    return file_id_index, labels"
   ]
  },
  {
   "cell_type": "markdown",
   "id": "4b866f5f",
   "metadata": {},
   "source": [
    "# Read and Process Data"
   ]
  },
  {
   "cell_type": "code",
   "execution_count": null,
   "id": "41378ca6",
   "metadata": {},
   "outputs": [],
   "source": [
    "#Read clinical data\n",
    "clinical = pd.read_spss(path_clinical_data)\n",
    "\n",
    "#Read ECG data stored as json files\n",
    "next_file_id, labels = process_data(path_negative, clinical, 0, output_directory, 0, [])\n",
    "last_file_id, labels = process_data(path_positive, clinical, 1, output_directory, next_file_id, labels)"
   ]
  },
  {
   "cell_type": "code",
   "execution_count": null,
   "id": "6a6d0e51",
   "metadata": {},
   "outputs": [],
   "source": [
    "#save first and last positive sample indexes\"\n",
    "header = [\"first_positive_sample_idx\", \"last_positive_sample_idx\"]\n",
    "data = [next_file_id, last_file_id -1]\n",
    "with open(info_directory, \"w\", newline = \"\") as csv_file: \n",
    "        csv_writer = csv.writer(csv_file, delimiter = \",\")\n",
    "        csv_writer.writerow(header)\n",
    "        csv_writer.writerow(data)"
   ]
  },
  {
   "cell_type": "code",
   "execution_count": null,
   "id": "28658c21",
   "metadata": {},
   "outputs": [],
   "source": [
    "#save labels as npy file\n",
    "labels = np.array(labels)\n",
    "np.save(label_directory, labels) "
   ]
  },
  {
   "cell_type": "markdown",
   "id": "d489f7d1",
   "metadata": {},
   "source": [
    "# Example of Loading Data"
   ]
  },
  {
   "cell_type": "code",
   "execution_count": null,
   "id": "ab62a0cc",
   "metadata": {},
   "outputs": [],
   "source": [
    "example = np.load(\"DataFilteredByDate/samples/id-16.npy\")"
   ]
  },
  {
   "cell_type": "code",
   "execution_count": null,
   "id": "06952ae8",
   "metadata": {},
   "outputs": [],
   "source": [
    "example"
   ]
  },
  {
   "cell_type": "code",
   "execution_count": null,
   "id": "713ef61d",
   "metadata": {},
   "outputs": [],
   "source": [
    "example.shape"
   ]
  },
  {
   "cell_type": "markdown",
   "id": "33a0c9bb",
   "metadata": {},
   "source": [
    "# Visualization"
   ]
  },
  {
   "cell_type": "code",
   "execution_count": null,
   "id": "e69cd51f",
   "metadata": {},
   "outputs": [],
   "source": [
    "def plot_leads(file_id_nr):\n",
    "    df = np.load(\"DataFilteredByDate/samples/id-\" + str(file_id_nr) + \".npy\")\n",
    "    \n",
    "    t = np.arange(df.shape[0])\n",
    "    fig, axis = plt.subplots(4, 2, sharex=True, sharey=True, figsize=(25, 20))\n",
    "    \n",
    "    axis[0,0].plot(t, df[:,0])\n",
    "    axis[0,0].set_title(\"Lead I\")\n",
    "    \n",
    "    axis[0,1].plot(t, df[:,1])\n",
    "    axis[0,1].set_title(\"Lead II\")\n",
    "    \n",
    "    axis[1,0].plot(t, df[:,2])\n",
    "    axis[1,0].set_title(\"Lead V1\")\n",
    "    \n",
    "    axis[1,1].plot(t, df[:,3])\n",
    "    axis[1,1].set_title(\"Lead V2\")\n",
    "    \n",
    "    axis[2,0].plot(t, df[:,4])\n",
    "    axis[2,0].set_title(\"Lead V3\")\n",
    "    \n",
    "    axis[2,1].plot(t, df[:,5])\n",
    "    axis[2,1].set_title(\"Lead V4\")\n",
    "    \n",
    "    axis[3,0].plot(t, df[:,6])\n",
    "    axis[3,0].set_title(\"Lead V5\")\n",
    "    \n",
    "    axis[3,1].plot(t, df[:,7])\n",
    "    axis[3,1].set_title(\"Lead V6\")\n",
    "    \n",
    "    name = \"plot_\" + str(file_id_nr)\n",
    "    fig.savefig(name)\n",
    "    \n",
    "    return"
   ]
  },
  {
   "cell_type": "code",
   "execution_count": null,
   "id": "93af1562",
   "metadata": {},
   "outputs": [],
   "source": [
    "plot_leads(16)"
   ]
  }
 ],
 "metadata": {
  "kernelspec": {
   "display_name": "Python 3",
   "language": "python",
   "name": "python3"
  },
  "language_info": {
   "codemirror_mode": {
    "name": "ipython",
    "version": 3
   },
   "file_extension": ".py",
   "mimetype": "text/x-python",
   "name": "python",
   "nbconvert_exporter": "python",
   "pygments_lexer": "ipython3",
   "version": "3.8.8"
  }
 },
 "nbformat": 4,
 "nbformat_minor": 5
}
