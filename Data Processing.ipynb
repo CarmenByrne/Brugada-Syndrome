{
 "cells": [
  {
   "cell_type": "markdown",
   "id": "cb6e567e",
   "metadata": {},
   "source": [
    "# Imports"
   ]
  },
  {
   "cell_type": "code",
   "execution_count": null,
   "id": "a2d6c72a-5b66-4e5c-bb5c-ac84cfa0426c",
   "metadata": {},
   "outputs": [],
   "source": [
    "from base64 import b64decode\n",
    "import numpy as np\n",
    "import pandas as pd\n",
    "import matplotlib.pyplot as plt\n",
    "%matplotlib widget\n",
    "%matplotlib inline\n",
    "import json\n",
    "import os\n",
    "import glob\n",
    "import datetime\n",
    "import gc\n",
    "from scipy import signal"
   ]
  },
  {
   "cell_type": "markdown",
   "id": "ce0b0899",
   "metadata": {},
   "source": [
    "# Paths to data"
   ]
  },
  {
   "cell_type": "code",
   "execution_count": null,
   "id": "d3a5bf99",
   "metadata": {},
   "outputs": [],
   "source": [
    "#clinical data \n",
    "path_clinical_data = \"20210305Ajmaline_AI.sav\"\n",
    "\n",
    "#negative BrS examples\n",
    "path_negative = \"Example_data/negative\"\n",
    "path_positive = \"Example_data/positive\""
   ]
  },
  {
   "cell_type": "markdown",
   "id": "b64729c6",
   "metadata": {},
   "source": [
    "# Functions"
   ]
  },
  {
   "cell_type": "code",
   "execution_count": null,
   "id": "db391db6",
   "metadata": {},
   "outputs": [],
   "source": [
    "#puts dates in \"clinical\" in same format as in ECG records\n",
    "#returns dictionaty of patient id and test date\n",
    "def id_w_date(clinical):\n",
    "    id_date = {}\n",
    "    clinical[\"Provocation_date\"] = pd.to_datetime(clinical[\"Provocation_date\"])\n",
    "    \n",
    "    for row in np.arange(clinical.shape[0]):\n",
    "        p_id = str(int(clinical[\"ID\"][row]))\n",
    "        formatted_date = datetime.date.strftime(clinical[\"Provocation_date\"][row], \"%m-%d-%Y\")\n",
    "        id_date[p_id]  = formatted_date\n",
    "        \n",
    "    return id_date"
   ]
  },
  {
   "cell_type": "code",
   "execution_count": null,
   "id": "16eb36b2",
   "metadata": {},
   "outputs": [],
   "source": [
    "def is_ajmaline_tested(data, ajmaline_id_date):\n",
    "    #checks if data contains patientID, if not, assume not ajmaline tested.\n",
    "    #if yes, check if patient id is in list of ajmaline tested and check date of test\n",
    "    \n",
    "    if data[\"RestingECG\"].__contains__(\"PatientDemographics\") and data[\"RestingECG\"].__contains__(\"TestDemographics\"):\n",
    "        p_demographics = data[\"RestingECG\"][\"PatientDemographics\"]\n",
    "        t_demographics = data[\"RestingECG\"][\"TestDemographics\"]\n",
    "        \n",
    "        if p_demographics.__contains__(\"PatientID\") and t_demographics.__contains__(\"AcquisitionDate\")  :            \n",
    "            patient_id = p_demographics[\"PatientID\"] \n",
    "            test_date = str(t_demographics[\"AcquisitionDate\"])\n",
    "            \n",
    "            if patient_id in ajmaline_id_date.keys() and ajmaline_id_date[patient_id] == test_date:\n",
    "                return True            \n",
    "            else:\n",
    "                return False\n",
    "        else:\n",
    "            return False\n",
    "    else:\n",
    "        return False"
   ]
  },
  {
   "cell_type": "code",
   "execution_count": null,
   "id": "f5d69fda",
   "metadata": {},
   "outputs": [],
   "source": [
    "def get_lead_data(data, base_name, pos_or_neg):\n",
    "    lead_I = []\n",
    "    lead_II = []\n",
    "    lead_V1 = []\n",
    "    lead_V2 = []\n",
    "    lead_V3 = []\n",
    "    lead_V4 = []\n",
    "    lead_V5 = []\n",
    "    lead_V6 = []\n",
    "    \n",
    "    lead_indx = {0: lead_I, 1: lead_II, 2: lead_V1, 3: lead_V2, 4: lead_V3,\n",
    "             5: lead_V4, 6: lead_V5, 7: lead_V6}\n",
    "    \n",
    "    #get waveform info\n",
    "    waveform = pd.DataFrame(data[\"RestingECG\"][\"Waveform\"])\n",
    "    \n",
    "    #use rhythm ECG (not median ECG)\n",
    "    rhythm_ecg = waveform[waveform[\"WaveformType\"]==\"Rhythm\"]\n",
    "    \n",
    "    #get elements inside LeadData \n",
    "    lead_data = rhythm_ecg[\"LeadData\"]\n",
    "    \n",
    "    #find ECG data per lead and add offset\n",
    "    for index in lead_indx:\n",
    "        leadoffset = float(lead_data[1][index][\"LeadOffsetFirstSample\"])\n",
    "        \n",
    "        #if leadoffset != 0:\n",
    "            #print(base_name, leadoffset)\n",
    "            \n",
    "        decoded = np.array(np.frombuffer(b64decode(lead_data[1][index][\"WaveFormData\"]), dtype=np.int16)) - leadoffset\n",
    "        lead_indx[index] = np.array([base_name, pos_or_neg, decoded], dtype=object)    \n",
    "        \n",
    "    return lead_indx[0], lead_indx[1], lead_indx[2], lead_indx[3], lead_indx[4], lead_indx[5], lead_indx[6], lead_indx[7]"
   ]
  },
  {
   "cell_type": "code",
   "execution_count": null,
   "id": "d64e7d59",
   "metadata": {},
   "outputs": [],
   "source": [
    "def read_files(directory, clinical, pos_or_neg):    \n",
    "    ajmaline_id_date = id_w_date(clinical)\n",
    "    lead_I = []\n",
    "    lead_II = []\n",
    "    lead_V1 = []\n",
    "    lead_V2 = []\n",
    "    lead_V3 = []\n",
    "    lead_V4 = []\n",
    "    lead_V5 = []\n",
    "    lead_V6 = []\n",
    "    \n",
    "    #iterate through all file names in the directory\n",
    "    for name in glob.glob(directory + \"/*\"):\n",
    "        #open file\n",
    "        f = open(name) \n",
    "        \n",
    "        #load file as json file\n",
    "        data = json.load(f)         \n",
    "\n",
    "        #check if patient id is in list of patients that were tested with ajmaline\n",
    "        #only keep file if not tested with ajmaline \n",
    "        if is_ajmaline_tested(data,ajmaline_id_date) is False:\n",
    "\n",
    "            #get file name without directory\n",
    "            base_name = os.path.basename(name)\n",
    "\n",
    "            #extract ecg lead data and decode, save lead per array with base_name and test outcome\n",
    "            #0: negative test, 1: positive test\n",
    "            l1, l2, lv1, lv2, lv3, lv4, lv5, lv6 = get_lead_data(data, base_name, pos_or_neg)\n",
    "            lead_I.append(l1)\n",
    "            lead_II.append(l2)\n",
    "            lead_V1.append(lv1)\n",
    "            lead_V2.append(lv2)\n",
    "            lead_V3.append(lv3)\n",
    "            lead_V4.append(lv4)\n",
    "            lead_V5.append(lv5)\n",
    "            lead_V6.append(lv6)\n",
    "            \n",
    "    return lead_I, lead_II, lead_V1, lead_V2, lead_V3, lead_V4, lead_V5, lead_V6                                               "
   ]
  },
  {
   "cell_type": "code",
   "execution_count": null,
   "id": "73b55b1f",
   "metadata": {},
   "outputs": [],
   "source": [
    "#check number of samples per patient record for one lead\n",
    "def number_of_measurements(lead):\n",
    "    n_measurements = []\n",
    "    for row in np.arange(lead.shape[0]):\n",
    "        if len(lead[row,2]) not in n_measurements:\n",
    "            n_measurements.append(len(lead[row,2]))\n",
    "    return n_measurements\n",
    "\n",
    "\n",
    "#downsample leads measured at double speed\n",
    "#keeps values at every other index\n",
    "def downsample(lead):\n",
    "    indeces = np.arange(0,5000, 2)\n",
    "    for row in np.arange(lead.shape[0]):\n",
    "        if len(lead[row,2]) == 5000:\n",
    "            presampled = lead[row,2]\n",
    "            downsampled = presampled[indeces]\n",
    "            lead[row,2] = downsampled                \n",
    "    return lead"
   ]
  },
  {
   "cell_type": "code",
   "execution_count": null,
   "id": "c440cd62",
   "metadata": {},
   "outputs": [],
   "source": [
    "#saves arrays of measurements as panda dfs\n",
    "def lead_to_df(lead):\n",
    "    times = np.arange(0, 2500, 1)\n",
    "    prefix = \"t\"\n",
    "    col_names = [prefix + str(sub) for sub in times]\n",
    "   \n",
    "    lead_df = pd.DataFrame(list(map(np.ravel, lead[:,2])), columns = col_names)\n",
    "    lead_df[\"base_name\"] = lead[:,0]\n",
    "    lead_df[\"outcome\"] = lead[:,1]\n",
    "    \n",
    "    return lead_df"
   ]
  },
  {
   "cell_type": "code",
   "execution_count": null,
   "id": "7e8c691f",
   "metadata": {},
   "outputs": [],
   "source": [
    "#calculate leads III, aVL, aVR, aVF\n",
    "def calculate_missing_leads(lead_I, lead_II):\n",
    "    lead_I = lead_I.set_index(\"base_name\")\n",
    "    lead_II = lead_II.set_index(\"base_name\")\n",
    "    \n",
    "    #initialise leads\n",
    "    lead_III = lead_I.copy()\n",
    "    lead_aVL = lead_I.copy()\n",
    "    lead_aVR = lead_I.copy()\n",
    "    lead_aVF = lead_I.copy()\n",
    "    \n",
    "    #calculate leads\n",
    "    lead_III.iloc[:,:-2] = lead_II.iloc[:,:-2] - lead_I.iloc[:,:-2]\n",
    "    lead_aVL.iloc[:,:-2] = (lead_I.iloc[:,:-2] - lead_III.iloc[:,:-2])/2.0\n",
    "    lead_aVR.iloc[:,:-2] = (lead_I.iloc[:,:-2] + lead_II.iloc[:,:-2])/(-2.0)\n",
    "    lead_aVF.iloc[:,:-2] = (lead_II.iloc[:,:-2] + lead_III.iloc[:,:-2])/2.0\n",
    "    \n",
    "    #add base_name as column rather than index\n",
    "    lead_III = lead_III.reset_index()\n",
    "    lead_aVL = lead_aVL.reset_index()\n",
    "    lead_aVR = lead_aVR.reset_index()\n",
    "    lead_aVF = lead_aVF.reset_index()\n",
    "    \n",
    "    #put base_name is same index as in old leads\n",
    "    lead_III.insert(2500, \"base_name\", lead_III.pop(\"base_name\"))\n",
    "    lead_aVL.insert(2500, \"base_name\", lead_aVL.pop(\"base_name\"))\n",
    "    lead_aVR.insert(2500, \"base_name\", lead_aVR.pop(\"base_name\"))\n",
    "    lead_aVF.insert(2500, \"base_name\", lead_aVF.pop(\"base_name\"))\n",
    "    \n",
    "    return lead_III, lead_aVL, lead_aVR, lead_aVF"
   ]
  },
  {
   "cell_type": "code",
   "execution_count": null,
   "id": "c313d98e",
   "metadata": {},
   "outputs": [],
   "source": [
    "#normalise each row by its maximum value\n",
    "def normalize(lead):\n",
    "    max_elements = lead.iloc[:, :-2].max(axis=1)\n",
    "    for element in max_elements:        \n",
    "        #avoid division by zero\n",
    "        if element == 0:\n",
    "            element = 0.0000001\n",
    "    lead.iloc[:, :-2] = lead.iloc[:, :-2].div(max_elements, axis=0)    \n",
    "    return lead"
   ]
  },
  {
   "cell_type": "code",
   "execution_count": null,
   "id": "bb90e5bd",
   "metadata": {},
   "outputs": [],
   "source": [
    "\"\"\"\n",
    "#calculate fourier transform (work in progress)\n",
    "def short_term_fourier_transform(lead):\n",
    "    transform = lead.copy()\n",
    "    for row in np.arange(lead.shape[0]):\n",
    "        f,t, transform[row, :-2] = signal.stft(lead[row])\n",
    "    \n",
    "    return transform\n",
    "\"\"\""
   ]
  },
  {
   "cell_type": "code",
   "execution_count": null,
   "id": "7ff12f51",
   "metadata": {},
   "outputs": [],
   "source": [
    "def plot_leads(row_id, lead_I, lead_II, lead_III, lead_aVL, lead_aVR, lead_aVF, lead_V1, lead_V2, lead_V3, lead_V4, lead_V5, lead_V6):\n",
    "    t = np.arange(lead_I.shape[1]-2)\n",
    "    fig, axis = plt.subplots(6, 2, sharex=True, sharey=True, figsize=(6, 12))\n",
    "    \n",
    "    axis[0,0].plot(t, lead_I.iloc[row_id, :-2])\n",
    "    axis[0,0].set_title(\"Lead I\")\n",
    "    \n",
    "    axis[0,1].plot(t, lead_II.iloc[row_id, :-2])\n",
    "    axis[0,1].set_title(\"Lead II\")\n",
    "    \n",
    "    axis[1,0].plot(t, lead_III.iloc[row_id, :-2])\n",
    "    axis[1,0].set_title(\"Lead III\")\n",
    "    \n",
    "    axis[1,1].plot(t, lead_aVL.iloc[row_id, :-2])\n",
    "    axis[1,1].set_title(\"Lead aVL\")\n",
    "    \n",
    "    axis[2,0].plot(t, lead_aVR.iloc[row_id, :-2])\n",
    "    axis[2,0].set_title(\"Lead aVR\")\n",
    "    \n",
    "    axis[2,1].plot(t, lead_aVF.iloc[row_id, :-2])\n",
    "    axis[2,1].set_title(\"Lead aVF\")\n",
    "    \n",
    "    axis[3,0].plot(t, lead_V1.iloc[row_id, :-2])\n",
    "    axis[3,0].set_title(\"Lead V1\")\n",
    "    \n",
    "    axis[3,1].plot(t, lead_V2.iloc[row_id, :-2])\n",
    "    axis[3,1].set_title(\"Lead V2\")\n",
    "    \n",
    "    axis[4,0].plot(t, lead_V3.iloc[row_id, :-2])\n",
    "    axis[4,0].set_title(\"Lead V3\")\n",
    "    \n",
    "    axis[4,1].plot(t, lead_V4.iloc[row_id, :-2])\n",
    "    axis[4,1].set_title(\"Lead V4\")\n",
    "    \n",
    "    axis[5,0].plot(t, lead_V5.iloc[row_id, :-2])\n",
    "    axis[5,0].set_title(\"Lead V5\")\n",
    "    \n",
    "    axis[5,1].plot(t, lead_V6.iloc[row_id, :-2])\n",
    "    axis[5,1].set_title(\"Lead V6\")\n",
    "    \n",
    "    plt.show()\n",
    "    \n",
    "    return"
   ]
  },
  {
   "cell_type": "markdown",
   "id": "1c49823b",
   "metadata": {},
   "source": [
    "# Data Processing"
   ]
  },
  {
   "cell_type": "code",
   "execution_count": null,
   "id": "5b275473",
   "metadata": {},
   "outputs": [],
   "source": [
    "#Read clinical data\n",
    "clinical = pd.read_spss(path_clinical_data)"
   ]
  },
  {
   "cell_type": "code",
   "execution_count": null,
   "id": "14e021c6",
   "metadata": {},
   "outputs": [],
   "source": [
    "#Read ECG data stored as json files\n",
    "lead_I_n, lead_II_n, lead_V1_n, lead_V2_n, lead_V3_n, lead_V4_n, lead_V5_n, lead_V6_n = read_files(path_negative, clinical, 0)\n",
    "lead_I_p, lead_II_p, lead_V1_p, lead_V2_p, lead_V3_p, lead_V4_p, lead_V5_p, lead_V6_p = read_files(path_positive, clinical, 1)"
   ]
  },
  {
   "cell_type": "code",
   "execution_count": null,
   "id": "5339b7e3",
   "metadata": {},
   "outputs": [],
   "source": [
    "#append positive and negative samples\n",
    "lead_I = np.append(lead_I_n, lead_I_p, axis=0)\n",
    "lead_II = np.append(lead_II_n, lead_II_p, axis=0)\n",
    "lead_V1 = np.append(lead_V1_n, lead_V1_p, axis=0)\n",
    "lead_V2 = np.append(lead_V2_n, lead_V2_p, axis=0)\n",
    "lead_V3 = np.append(lead_V3_n, lead_V3_p, axis=0)\n",
    "lead_V4 = np.append(lead_V4_n, lead_V4_p, axis=0)\n",
    "lead_V5 = np.append(lead_V5_n, lead_V5_p, axis=0)\n",
    "lead_V6 = np.append(lead_V6_n, lead_V6_p, axis=0)\n",
    "\n",
    "#delete unused arrays\n",
    "del lead_I_n, lead_II_n, lead_V1_n, lead_V2_n, lead_V3_n, lead_V4_n, lead_V5_n, lead_V6_n\n",
    "del lead_I_p, lead_II_p, lead_V1_p, lead_V2_p, lead_V3_p, lead_V4_p, lead_V5_p, lead_V6_p\n",
    "gc.collect()"
   ]
  },
  {
   "cell_type": "code",
   "execution_count": null,
   "id": "3ecdc507",
   "metadata": {},
   "outputs": [],
   "source": [
    "#get the number of measurements per row\n",
    "print(number_of_measurements(lead_I))\n",
    "print(number_of_measurements(lead_II))\n",
    "print(number_of_measurements(lead_V1))\n",
    "print(number_of_measurements(lead_V2))\n",
    "print(number_of_measurements(lead_V3))\n",
    "print(number_of_measurements(lead_V4))\n",
    "print(number_of_measurements(lead_V5))\n",
    "print(number_of_measurements(lead_V6))"
   ]
  },
  {
   "cell_type": "code",
   "execution_count": null,
   "id": "7514db03",
   "metadata": {},
   "outputs": [],
   "source": [
    "#records have either 2500 or 5000 measurements, downsample to 2500\n",
    "lead_I = downsample(lead_I)\n",
    "lead_II = downsample(lead_II)\n",
    "lead_V1 = downsample(lead_V1)\n",
    "lead_V2 = downsample(lead_V2)\n",
    "lead_V3 = downsample(lead_V3)\n",
    "lead_V4 = downsample(lead_V4)\n",
    "lead_V5 = downsample(lead_V5)\n",
    "lead_V6 = downsample(lead_V6)"
   ]
  },
  {
   "cell_type": "code",
   "execution_count": null,
   "id": "8aaabbdb",
   "metadata": {},
   "outputs": [],
   "source": [
    "#check if sampling worked\n",
    "print(number_of_measurements(lead_I))\n",
    "print(number_of_measurements(lead_II))\n",
    "print(number_of_measurements(lead_V1))\n",
    "print(number_of_measurements(lead_V2))\n",
    "print(number_of_measurements(lead_V3))\n",
    "print(number_of_measurements(lead_V4))\n",
    "print(number_of_measurements(lead_V5))\n",
    "print(number_of_measurements(lead_V6))"
   ]
  },
  {
   "cell_type": "code",
   "execution_count": null,
   "id": "3cfed431",
   "metadata": {},
   "outputs": [],
   "source": [
    "#transform leads to dataframes\n",
    "lead_I = lead_to_df(lead_I)\n",
    "lead_II = lead_to_df(lead_II)\n",
    "lead_V1 = lead_to_df(lead_V1)\n",
    "lead_V2 = lead_to_df(lead_V2)\n",
    "lead_V3 = lead_to_df(lead_V3)\n",
    "lead_V4 = lead_to_df(lead_V4)\n",
    "lead_V5 = lead_to_df(lead_V5)\n",
    "lead_V6 = lead_to_df(lead_V6)"
   ]
  },
  {
   "cell_type": "code",
   "execution_count": null,
   "id": "a7e10f6f",
   "metadata": {},
   "outputs": [],
   "source": [
    "#calculate missing leads\n",
    "lead_III, lead_aVL, lead_aVR, lead_aVF = calculate_missing_leads(lead_I, lead_II)"
   ]
  },
  {
   "cell_type": "code",
   "execution_count": null,
   "id": "eb973623",
   "metadata": {},
   "outputs": [],
   "source": [
    "#plot before normalising\n",
    "plot_leads(0, lead_I, lead_II, lead_III, lead_aVL, lead_aVR, lead_aVF, lead_V1, lead_V2, lead_V3, lead_V4, lead_V5, lead_V6)"
   ]
  },
  {
   "cell_type": "code",
   "execution_count": null,
   "id": "612633e8",
   "metadata": {},
   "outputs": [],
   "source": [
    "#normalise the leads\n",
    "lead_I = normalize(lead_I)\n",
    "lead_II = normalize(lead_II)\n",
    "lead_III = normalize(lead_III)\n",
    "lead_aVL = normalize(lead_aVL)\n",
    "lead_aVR = normalize(lead_aVR)\n",
    "lead_aVF = normalize(lead_aVF)\n",
    "lead_V1 = normalize(lead_V1)\n",
    "lead_V2 = normalize(lead_V2)\n",
    "lead_V3 = normalize(lead_V3)\n",
    "lead_V4 = normalize(lead_V4)\n",
    "lead_V5 = normalize(lead_V5)\n",
    "lead_V6 = normalize(lead_V6)"
   ]
  },
  {
   "cell_type": "markdown",
   "id": "a2fc76f9",
   "metadata": {},
   "source": [
    "# Data Visualisation"
   ]
  },
  {
   "cell_type": "code",
   "execution_count": null,
   "id": "072f3836",
   "metadata": {},
   "outputs": [],
   "source": [
    "plot_leads(0, lead_I, lead_II, lead_III, lead_aVL, lead_aVR, lead_aVF, lead_V1, lead_V2, lead_V3, lead_V4, lead_V5, lead_V6)"
   ]
  }
 ],
 "metadata": {
  "kernelspec": {
   "display_name": "Python 3 (ipykernel)",
   "language": "python",
   "name": "python3"
  },
  "language_info": {
   "codemirror_mode": {
    "name": "ipython",
    "version": 3
   },
   "file_extension": ".py",
   "mimetype": "text/x-python",
   "name": "python",
   "nbconvert_exporter": "python",
   "pygments_lexer": "ipython3",
   "version": "3.10.4"
  }
 },
 "nbformat": 4,
 "nbformat_minor": 5
}
