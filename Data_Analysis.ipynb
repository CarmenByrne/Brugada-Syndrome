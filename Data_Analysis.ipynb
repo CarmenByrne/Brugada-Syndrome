{
 "cells": [
  {
   "cell_type": "code",
   "execution_count": null,
   "id": "565d86af",
   "metadata": {},
   "outputs": [],
   "source": [
    "import numpy as np\n",
    "import pandas as pd\n",
    "import matplotlib.pyplot as plt\n",
    "import mcfly\n",
    "from sklearn.model_selection import train_test_split\n",
    "import gc\n",
    "import os\n",
    "from mcfly.find_architecture import train_models_on_samples\n",
    "from sklearn.preprocessing import LabelEncoder\n",
    "from sklearn.preprocessing import OneHotEncoder\n",
    "import tensorflow as tf\n",
    "from imblearn.over_sampling import SMOTE\n",
    "from keras import backend as K\n",
    "import keras\n",
    "import json\n",
    "import glob\n",
    "import datetime\n",
    "import seaborn as sns\n",
    "%matplotlib widget\n",
    "%matplotlib inline\n",
    "\n",
    "ECG_only = False #set to true if want to use ECG train/val/split (=> no PRS distribution per set)\n",
    "split_path = \"400_dumped/Final_Data/split/train_val_test.json\"\n",
    "\n",
    "#split_path = \"Removed_no_genetic/Data_Final_Same_Test_Balanced_Val/split/train_val_test.json\""
   ]
  },
  {
   "cell_type": "markdown",
   "id": "a9388f0e",
   "metadata": {},
   "source": [
    "# Check number of patients in final train, val and test set whose samples were taken on the same day"
   ]
  },
  {
   "cell_type": "code",
   "execution_count": null,
   "id": "7ab5672b",
   "metadata": {},
   "outputs": [],
   "source": [
    "#open original train, val, test split to calculate original weights\n",
    "with open(split_path, \"r\") as fp:\n",
    "    train_val_test_dict = json.load(fp)"
   ]
  },
  {
   "cell_type": "code",
   "execution_count": null,
   "id": "9eab3ea1",
   "metadata": {},
   "outputs": [],
   "source": [
    "def filter_patients(path_to_files, ecg_ids_and_dates):\n",
    "    \n",
    "    #iterate through all file names in the directory\n",
    "    for name in glob.glob(path_to_files + \"/*\"):\n",
    "        #open file\n",
    "        f = open(name) \n",
    "\n",
    "        #load file as json file\n",
    "        data = json.load(f)\n",
    "        name = name.replace(path_to_files, \"\")\n",
    "        name = name.replace(\"\\\\\" , \"\")\n",
    "        id_ecg = name.replace(\".json\", \"\")    \n",
    "                    \n",
    "        #check if ECG has a field acquisition date, \n",
    "        #check if date in this field corresponds to an ajmaline test date for that patient number\n",
    "        #if so store as ajmaline test, otherwise store as not tested: use for training\n",
    "        #if ECG has no field acquisition date, store ECG as having different format\n",
    "        if data[\"RestingECG\"].__contains__(\"TestDemographics\"):\n",
    "            t_demographics = data[\"RestingECG\"][\"TestDemographics\"]\n",
    "\n",
    "            if t_demographics.__contains__(\"AcquisitionDate\"):\n",
    "                \n",
    "                #put datetime in \"%m-%d-%Y\" format\n",
    "                test_date = str(t_demographics[\"AcquisitionDate\"])\n",
    "                test_date = datetime.date.strftime(pd.to_datetime(test_date), \"%m-%d-%Y\")\n",
    "\n",
    "                ecg_ids_and_dates.append([id_ecg, test_date])\n",
    "                    \n",
    "    return ecg_ids_and_dates"
   ]
  },
  {
   "cell_type": "code",
   "execution_count": null,
   "id": "822cfb7f",
   "metadata": {},
   "outputs": [],
   "source": [
    "ecg_ids_and_dates = []\n",
    "path_negative = \"AnonymisedECGs_json/negative\"\n",
    "path_positive = \"AnonymisedECGs_json/positive\"\n",
    "ecg_ids_and_dates = filter_patients(path_positive, ecg_ids_and_dates)\n",
    "ecg_ids_and_dates = filter_patients(path_negative, ecg_ids_and_dates)"
   ]
  },
  {
   "cell_type": "code",
   "execution_count": null,
   "id": "465dbf15",
   "metadata": {},
   "outputs": [],
   "source": [
    "ecg_ids_and_dates = pd.DataFrame(ecg_ids_and_dates, columns=[\"ecg_id\", \"ecg_date\"])"
   ]
  },
  {
   "cell_type": "code",
   "execution_count": null,
   "id": "694ba8c9",
   "metadata": {},
   "outputs": [],
   "source": [
    "train = train_val_test_dict[\"train\"].copy()\n",
    "val = train_val_test_dict[\"val\"].copy()\n",
    "test = train_val_test_dict[\"test\"].copy()"
   ]
  },
  {
   "cell_type": "code",
   "execution_count": null,
   "id": "8ea62f5e",
   "metadata": {},
   "outputs": [],
   "source": [
    "train_ecg_ids_dates = [ecg_ids_and_dates.iloc[row, :] for row in range(ecg_ids_and_dates.shape[0]) if ecg_ids_and_dates[\"ecg_id\"][row] in train]\n",
    "val_ecg_ids_dates = [ecg_ids_and_dates.iloc[row, :]  for row in range(ecg_ids_and_dates.shape[0]) if ecg_ids_and_dates[\"ecg_id\"][row] in val]\n",
    "test_ecg_ids_dates = [ecg_ids_and_dates.iloc[row, :]  for row in range(ecg_ids_and_dates.shape[0]) if ecg_ids_and_dates[\"ecg_id\"][row] in test]"
   ]
  },
  {
   "cell_type": "code",
   "execution_count": null,
   "id": "066cdf56",
   "metadata": {},
   "outputs": [],
   "source": [
    "train_ecg_ids_dates = pd.DataFrame(train_ecg_ids_dates)\n",
    "val_ecg_ids_dates = pd.DataFrame(val_ecg_ids_dates)\n",
    "test_ecg_ids_dates = pd.DataFrame(test_ecg_ids_dates)"
   ]
  },
  {
   "cell_type": "code",
   "execution_count": null,
   "id": "845948bc",
   "metadata": {},
   "outputs": [],
   "source": [
    "train_ecg_ids_dates[\"ecg_id\"] = [ecg_id.split(\"_\")[0] for ecg_id in train_ecg_ids_dates[\"ecg_id\"]]\n",
    "val_ecg_ids_dates[\"ecg_id\"] = [ecg_id.split(\"_\")[0] for ecg_id in val_ecg_ids_dates[\"ecg_id\"]]\n",
    "test_ecg_ids_dates[\"ecg_id\"] = [ecg_id.split(\"_\")[0] for ecg_id in test_ecg_ids_dates[\"ecg_id\"]]"
   ]
  },
  {
   "cell_type": "code",
   "execution_count": null,
   "id": "40edc1cf",
   "metadata": {},
   "outputs": [],
   "source": [
    "print( \"n patients in train, val, test: \", train_ecg_ids_dates[\"ecg_id\"].nunique(), val_ecg_ids_dates[\"ecg_id\"].nunique(), test_ecg_ids_dates[\"ecg_id\"].nunique() )"
   ]
  },
  {
   "cell_type": "markdown",
   "id": "6a902b31",
   "metadata": {},
   "source": [
    "## Train"
   ]
  },
  {
   "cell_type": "code",
   "execution_count": null,
   "id": "b5d1f558",
   "metadata": {},
   "outputs": [],
   "source": [
    "print(\"Patients with duplicate dates: \")\n",
    "a = train_ecg_ids_dates.groupby(train_ecg_ids_dates.columns.tolist(), as_index = False).size()\n",
    "a[a[\"size\"]>=2]"
   ]
  },
  {
   "cell_type": "code",
   "execution_count": null,
   "id": "4e78ea63",
   "metadata": {},
   "outputs": [],
   "source": [
    "a[a[\"size\"]==1]"
   ]
  },
  {
   "cell_type": "code",
   "execution_count": null,
   "id": "0e7eba6a",
   "metadata": {},
   "outputs": [],
   "source": [
    "print(\"mean number of ecgs on the same day for the same patient in train: \", np.mean(a[\"size\"]), \n",
    "      \", median: \", np.median(a[\"size\"]),\n",
    "     \", min: \", np.min(a[\"size\"]),\n",
    "     \", max: \", np.max(a[\"size\"]))"
   ]
  },
  {
   "cell_type": "code",
   "execution_count": null,
   "id": "36c08405",
   "metadata": {},
   "outputs": [],
   "source": [
    "ax = plt.scatter(a[\"ecg_id\"], a[\"size\"])\n",
    "plt.xlabel(\"Patients\")\n",
    "plt.ylabel(\"Number of ECGs in a particular date\")\n",
    "plt.xticks([])"
   ]
  },
  {
   "cell_type": "code",
   "execution_count": null,
   "id": "2306f9f5",
   "metadata": {},
   "outputs": [],
   "source": [
    "train_ecg_ids_dates[\"label\"] = [\"No BrP\" if elem[0]== str(1) else \"BrP\" for elem in train_ecg_ids_dates[\"ecg_id\"] ]\n",
    "m = train_ecg_ids_dates.groupby([\"ecg_id\", \"label\"]).size().reset_index(name=\"samples_per_patient\")\n",
    "sns.set(font_scale= 2.5)\n",
    "sns.set_style(\"white\")\n",
    "fig, ax= plt.subplots(figsize = (10,10))\n",
    "sns.boxplot(x=\"label\", y=\"samples_per_patient\", data = m)\n",
    "ax.set(xlabel = \"True label\", ylabel= \"Samples per patient\")\n",
    "#plt.savefig(\"ECG_PRS_Samples_pp_boxplot_train.png\")\n",
    "plt.savefig(\"ECG_Samples_pp_boxplot_train.png\")"
   ]
  },
  {
   "cell_type": "code",
   "execution_count": null,
   "id": "4c8b2764",
   "metadata": {},
   "outputs": [],
   "source": [
    "print(\"mean number of ecgs for the same patient in train: \", np.mean(m[\"samples_per_patient\"]), \n",
    "      \", median: \", np.median(m[\"samples_per_patient\"]),\n",
    "     \", min: \", np.min(m[\"samples_per_patient\"]),\n",
    "     \", max: \", np.max(m[\"samples_per_patient\"]))"
   ]
  },
  {
   "cell_type": "markdown",
   "id": "e2edddae",
   "metadata": {},
   "source": [
    "## Val"
   ]
  },
  {
   "cell_type": "code",
   "execution_count": null,
   "id": "a7baf1d1",
   "metadata": {},
   "outputs": [],
   "source": [
    "#val\n",
    "print(\"Patients with duplicate dates: \")\n",
    "a = val_ecg_ids_dates.groupby(val_ecg_ids_dates.columns.tolist(), as_index = False).size()\n",
    "a[a[\"size\"]>=2]"
   ]
  },
  {
   "cell_type": "code",
   "execution_count": null,
   "id": "2212d563",
   "metadata": {},
   "outputs": [],
   "source": [
    "a[a[\"size\"]==1]"
   ]
  },
  {
   "cell_type": "code",
   "execution_count": null,
   "id": "45c37860",
   "metadata": {},
   "outputs": [],
   "source": [
    "print(\"mean number of ecgs on the same day for the same patient in val: \", np.mean(a[\"size\"]), \n",
    "      \", median: \", np.median(a[\"size\"]),\n",
    "     \", min: \", np.min(a[\"size\"]),\n",
    "     \", max: \", np.max(a[\"size\"]))\n",
    "ax = plt.scatter(a[\"ecg_id\"], a[\"size\"])\n",
    "plt.xlabel(\"Patients\")\n",
    "plt.ylabel(\"Number of ECGs in a particular date\")\n",
    "plt.xticks([])"
   ]
  },
  {
   "cell_type": "code",
   "execution_count": null,
   "id": "f6a42e7f",
   "metadata": {},
   "outputs": [],
   "source": [
    "val_ecg_ids_dates[\"label\"] = [\"No BrP\" if elem[0]== str(1) else \"BrP\" for elem in val_ecg_ids_dates[\"ecg_id\"] ]\n",
    "m = val_ecg_ids_dates.groupby([\"ecg_id\", \"label\"]).size().reset_index(name=\"samples_per_patient\")\n",
    "fig, ax= plt.subplots(figsize = (10,10))\n",
    "ax = sns.boxplot(x=\"label\", y=\"samples_per_patient\", data = m)\n",
    "ax.set(xlabel = \"True label\", ylabel= \"Samples per patient\")\n",
    "#plt.savefig(\"ECG_PRS_Samples_pp_boxplot_val.png\")\n",
    "plt.savefig(\"ECG_Samples_pp_boxplot_val.png\")"
   ]
  },
  {
   "cell_type": "code",
   "execution_count": null,
   "id": "a68dd503",
   "metadata": {},
   "outputs": [],
   "source": [
    "print(\"mean number of ecgs for the same patient in val: \", np.mean(m[\"samples_per_patient\"]), \n",
    "      \", median: \", np.median(m[\"samples_per_patient\"]),\n",
    "     \", min: \", np.min(m[\"samples_per_patient\"]),\n",
    "     \", max: \", np.max(m[\"samples_per_patient\"]))"
   ]
  },
  {
   "cell_type": "markdown",
   "id": "fcd8d911",
   "metadata": {},
   "source": [
    "## Test"
   ]
  },
  {
   "cell_type": "code",
   "execution_count": null,
   "id": "7410412e",
   "metadata": {},
   "outputs": [],
   "source": [
    "#test\n",
    "print(\"Patients with duplicate dates: \")\n",
    "a = test_ecg_ids_dates.groupby(test_ecg_ids_dates.columns.tolist(), as_index = False).size()\n",
    "a[a[\"size\"]>=2]"
   ]
  },
  {
   "cell_type": "code",
   "execution_count": null,
   "id": "783254ae",
   "metadata": {},
   "outputs": [],
   "source": [
    "a[a[\"size\"] == 1]"
   ]
  },
  {
   "cell_type": "code",
   "execution_count": null,
   "id": "def6d97f",
   "metadata": {},
   "outputs": [],
   "source": [
    "print(\"mean number of ecgs on the same day for the same patient in test: \", np.mean(a[\"size\"]), \n",
    "      \", median: \", np.median(a[\"size\"]),\n",
    "     \", min: \", np.min(a[\"size\"]),\n",
    "     \", max: \", np.max(a[\"size\"]))\n",
    "\n",
    "ax = plt.scatter(a[\"ecg_id\"], a[\"size\"])\n",
    "plt.xlabel(\"Patients\")\n",
    "plt.ylabel(\"Number of ECGs in a particular date\")\n",
    "plt.xticks([])"
   ]
  },
  {
   "cell_type": "code",
   "execution_count": null,
   "id": "9dcb69b4",
   "metadata": {},
   "outputs": [],
   "source": [
    "test_ecg_ids_dates[\"label\"] = [\"No BrP\" if elem[0]== str(1) else \"BrP\" for elem in test_ecg_ids_dates[\"ecg_id\"] ]\n",
    "m = test_ecg_ids_dates.groupby([\"ecg_id\", \"label\"]).size().reset_index(name=\"samples_per_patient\")\n",
    "fig, ax= plt.subplots(figsize = (10,10))\n",
    "ax =sns.boxplot(x=\"label\", y=\"samples_per_patient\", data = m)\n",
    "ax.set(xlabel = \"True label\", ylabel= \"Samples per patient\")\n",
    "#plt.savefig(\"ECG_PRS_Samples_pp_boxplot_test.png\")\n",
    "plt.savefig(\"ECG_Samples_pp_boxplot_test.png\")"
   ]
  },
  {
   "cell_type": "code",
   "execution_count": null,
   "id": "c5d43ad9",
   "metadata": {},
   "outputs": [],
   "source": [
    "print(\"mean number of ecgs for the same patient in test: \", np.mean(m[\"samples_per_patient\"]), \n",
    "      \", median: \", np.median(m[\"samples_per_patient\"]),\n",
    "     \", min: \", np.min(m[\"samples_per_patient\"]),\n",
    "     \", max: \", np.max(m[\"samples_per_patient\"]))"
   ]
  },
  {
   "cell_type": "markdown",
   "id": "af89dbe2",
   "metadata": {},
   "source": [
    "# Check no intersection btw test and other sets"
   ]
  },
  {
   "cell_type": "code",
   "execution_count": null,
   "id": "8ef1b3f0",
   "metadata": {},
   "outputs": [],
   "source": [
    "#open original train, val, test split to calculate original weights\n",
    "with open(split_path, \"r\") as fp:\n",
    "    train_val_test_dict = json.load(fp)"
   ]
  },
  {
   "cell_type": "code",
   "execution_count": null,
   "id": "602c26f4",
   "metadata": {},
   "outputs": [],
   "source": [
    "train = train_val_test_dict[\"train\"].copy()\n",
    "val = train_val_test_dict[\"val\"].copy()\n",
    "test = train_val_test_dict[\"test\"].copy()"
   ]
  },
  {
   "cell_type": "code",
   "execution_count": null,
   "id": "ff1b3059",
   "metadata": {},
   "outputs": [],
   "source": [
    "def get_p_id(df):    \n",
    "    stripped= []\n",
    "    for p in df:\n",
    "         stripped.append(p.split(\"_\", 1)[0]) #remove everythin after \"_\"\n",
    "    stripped = list(dict.fromkeys(stripped))\n",
    "    return stripped"
   ]
  },
  {
   "cell_type": "code",
   "execution_count": null,
   "id": "ad3e8c2c",
   "metadata": {},
   "outputs": [],
   "source": [
    "train_clean = get_p_id(train)\n",
    "val_clean = get_p_id(val)\n",
    "test_clean = get_p_id(test)"
   ]
  },
  {
   "cell_type": "code",
   "execution_count": null,
   "id": "f45c60a7",
   "metadata": {},
   "outputs": [],
   "source": [
    "list(set(train_clean).intersection(set(val_clean)))"
   ]
  },
  {
   "cell_type": "code",
   "execution_count": null,
   "id": "6adf24b5",
   "metadata": {},
   "outputs": [],
   "source": [
    "print(\"Number of patients that appear both on train and val\")\n",
    "len(list(set(train_clean).intersection(set(val_clean))))"
   ]
  },
  {
   "cell_type": "code",
   "execution_count": null,
   "id": "9197ccf9",
   "metadata": {},
   "outputs": [],
   "source": [
    "print(\"Number of patients that appear both on train and test\")\n",
    "len(list(set(train_clean).intersection(set(test_clean))))"
   ]
  },
  {
   "cell_type": "code",
   "execution_count": null,
   "id": "0ab2a644",
   "metadata": {},
   "outputs": [],
   "source": [
    "print(\"Number of patients that appear both on val and test\")\n",
    "len(list(set(val_clean).intersection(set(test_clean))))"
   ]
  },
  {
   "cell_type": "code",
   "execution_count": null,
   "id": "6f0f175d",
   "metadata": {},
   "outputs": [],
   "source": [
    "set(train_clean).intersection(set(val_clean))"
   ]
  },
  {
   "cell_type": "code",
   "execution_count": null,
   "id": "8f8d24a2",
   "metadata": {},
   "outputs": [],
   "source": [
    "train_val_intersection = list(set(train_clean).intersection(set(val_clean)))\n",
    "val_samples_from_train_patients = 0\n",
    "for elem in val_ecg_ids_dates[\"ecg_id\"]:\n",
    "    if elem in  train_val_intersection:\n",
    "        val_samples_from_train_patients = val_samples_from_train_patients+1\n",
    "print(\"Number of validation samples that come from patients that also have samples in train: \", val_samples_from_train_patients)"
   ]
  },
  {
   "cell_type": "code",
   "execution_count": null,
   "id": "181d1072",
   "metadata": {},
   "outputs": [],
   "source": [
    "print(\"Number of samples in validation set: \", val_ecg_ids_dates.shape[0])"
   ]
  },
  {
   "cell_type": "code",
   "execution_count": null,
   "id": "4ccca645",
   "metadata": {},
   "outputs": [],
   "source": [
    "if ECG_only:\n",
    "    raise Exception(\"No PRS data for ECG model, stop notebook\")"
   ]
  },
  {
   "cell_type": "markdown",
   "id": "2cd73926",
   "metadata": {},
   "source": [
    "# Different values in BRS PRS"
   ]
  },
  {
   "cell_type": "code",
   "execution_count": null,
   "id": "b2acfb4c",
   "metadata": {},
   "outputs": [],
   "source": [
    "genetic_data_path = \"GeneticData/available_BRS_PRS.txt\""
   ]
  },
  {
   "cell_type": "code",
   "execution_count": null,
   "id": "0a974484",
   "metadata": {},
   "outputs": [],
   "source": [
    "PRS = pd.read_csv(genetic_data_path, header=0, sep=\",\")"
   ]
  },
  {
   "cell_type": "code",
   "execution_count": null,
   "id": "3d487db6",
   "metadata": {},
   "outputs": [],
   "source": [
    "PRS"
   ]
  },
  {
   "cell_type": "code",
   "execution_count": null,
   "id": "10cd9f5b",
   "metadata": {},
   "outputs": [],
   "source": [
    "sns.displot(PRS, x=PRS[\"SCORE\"])"
   ]
  },
  {
   "cell_type": "code",
   "execution_count": null,
   "id": "d8c63ca7",
   "metadata": {},
   "outputs": [],
   "source": [
    "min(PRS[\"SCORE\"])"
   ]
  },
  {
   "cell_type": "code",
   "execution_count": null,
   "id": "14c590cb",
   "metadata": {},
   "outputs": [],
   "source": [
    "max(PRS[\"SCORE\"])"
   ]
  },
  {
   "cell_type": "code",
   "execution_count": null,
   "id": "c42c99bb",
   "metadata": {},
   "outputs": [],
   "source": [
    "len(set(PRS[\"SCORE\"]))"
   ]
  },
  {
   "cell_type": "code",
   "execution_count": null,
   "id": "af55a68d",
   "metadata": {},
   "outputs": [],
   "source": [
    "PRS[\"SCORE\"].shape[0]"
   ]
  },
  {
   "cell_type": "code",
   "execution_count": null,
   "id": "3c6e2089",
   "metadata": {},
   "outputs": [],
   "source": [
    "#open original train, val, test split to calculate original weights\n",
    "with open(split_path, \"r\") as fp:\n",
    "    train_val_test_dict = json.load(fp)"
   ]
  },
  {
   "cell_type": "code",
   "execution_count": null,
   "id": "54c8a3a4",
   "metadata": {},
   "outputs": [],
   "source": [
    "#get PRS from patients in train and val sets\n",
    "keys = ['train', 'val']\n",
    "n_samples = len(train_val_test_dict['train']) + len(train_val_test_dict['val'])\n",
    "X_PRS = np.empty((n_samples), dtype = float)\n",
    "\n",
    "for elem in keys: \n",
    "    for i, ID in enumerate(train_val_test_dict[elem]):\n",
    "            p_id = int(ID.split(\"_\", 1)[0])\n",
    "\n",
    "            #store PRS sample\n",
    "            X_PRS[i] = PRS[PRS[\"anonymous_id\"] == p_id][\"SCORE\"]"
   ]
  },
  {
   "cell_type": "code",
   "execution_count": null,
   "id": "34c468d5",
   "metadata": {},
   "outputs": [],
   "source": [
    "len(X_PRS)"
   ]
  },
  {
   "cell_type": "code",
   "execution_count": null,
   "id": "bd51da10",
   "metadata": {},
   "outputs": [],
   "source": [
    "len(train_val_test_dict['train']) + len(train_val_test_dict['val'])"
   ]
  },
  {
   "cell_type": "code",
   "execution_count": null,
   "id": "f7fe56f0",
   "metadata": {},
   "outputs": [],
   "source": [
    "#get PRS from patients in train and val sets\n",
    "train_samples = len(train_val_test_dict['train'])\n",
    "val_samples = len(train_val_test_dict['val'])\n",
    "X_PRS_t = np.empty(shape=(train_samples,2), dtype = float)\n",
    "X_PRS_val = np.empty(shape=(val_samples,2), dtype = float)\n",
    "\n",
    "\n",
    "for i, ID in enumerate(train_val_test_dict['train']):\n",
    "        p_id = int(ID.split(\"_\", 1)[0])\n",
    "\n",
    "        #store PRS sample\n",
    "        X_PRS_t[i, 0] = p_id\n",
    "        X_PRS_t[i, 1] = PRS[PRS[\"anonymous_id\"] == p_id][\"SCORE\"]\n",
    "        \n",
    "for i, ID in enumerate(train_val_test_dict['val']):\n",
    "        p_id = int(ID.split(\"_\", 1)[0])\n",
    "\n",
    "        #store PRS sample\n",
    "        X_PRS_val[i, 0] = p_id\n",
    "        X_PRS_val[i, 1] = PRS[PRS[\"anonymous_id\"] == p_id][\"SCORE\"]"
   ]
  },
  {
   "cell_type": "code",
   "execution_count": null,
   "id": "be87fc6b",
   "metadata": {},
   "outputs": [],
   "source": [
    "print(len(X_PRS_t), len(X_PRS_val))"
   ]
  },
  {
   "cell_type": "code",
   "execution_count": null,
   "id": "33f56da3",
   "metadata": {},
   "outputs": [],
   "source": [
    "print(len(np.unique(X_PRS_t, axis=0)), len(np.unique(X_PRS_val, axis=0)))\n",
    "#should be the same as number of unique patient id in train and val"
   ]
  },
  {
   "cell_type": "code",
   "execution_count": null,
   "id": "1809777d",
   "metadata": {},
   "outputs": [],
   "source": [
    "print(len(np.unique(X_PRS_t[:,1], axis=0)), len(np.unique(X_PRS_val[:,1], axis=0)))\n",
    "#number of different PRS scores in test and val => goal: check if there's less unique PRS than unique patients (then can use PRS cause not perfect predictor)"
   ]
  },
  {
   "cell_type": "code",
   "execution_count": null,
   "id": "b19a150b",
   "metadata": {},
   "outputs": [],
   "source": [
    "train = train_val_test_dict[\"train\"].copy()\n",
    "val = train_val_test_dict[\"val\"].copy()\n",
    "test = train_val_test_dict[\"test\"].copy()\n",
    "\n",
    "\n",
    "def get_p_id(df):    \n",
    "    stripped= []\n",
    "    for p in df:\n",
    "         stripped.append(p.split(\"_\", 1)[0]) #remove everythin after \"_\"\n",
    "    stripped = list(dict.fromkeys(stripped))\n",
    "    return stripped\n",
    "\n",
    "train_clean = get_p_id(train)\n",
    "val_clean = get_p_id(val)\n",
    "test_clean = get_p_id(test)\n"
   ]
  },
  {
   "cell_type": "code",
   "execution_count": null,
   "id": "4a901701",
   "metadata": {},
   "outputs": [],
   "source": [
    "print(len(np.unique(train_clean)), len(train_val_test_dict['train']))\n",
    "#number of train patients, and number of train samples"
   ]
  },
  {
   "cell_type": "code",
   "execution_count": null,
   "id": "571dddfb",
   "metadata": {},
   "outputs": [],
   "source": [
    "print(len(np.unique(val_clean)), len(train_val_test_dict['val']))\n",
    "#number of val patients, and number of val samples"
   ]
  },
  {
   "cell_type": "code",
   "execution_count": null,
   "id": "5c2126b7",
   "metadata": {},
   "outputs": [],
   "source": [
    "\"\"\"\n",
    "want to check number of patients that appear both in train and val \n",
    "and compare to number of prs that appear both in trian and val\n",
    "\"\"\""
   ]
  },
  {
   "cell_type": "code",
   "execution_count": null,
   "id": "14531acc",
   "metadata": {},
   "outputs": [],
   "source": [
    "len(list(set(train_clean).intersection(set(val_clean))))\n",
    "#149 patients appear both on train and val"
   ]
  },
  {
   "cell_type": "code",
   "execution_count": null,
   "id": "28400157",
   "metadata": {},
   "outputs": [],
   "source": [
    "len(np.intersect1d(np.unique(X_PRS_t[:,1]), (X_PRS_val[:,1])))\n",
    "#111 PRS appear both on train and val < number of patients that appear on both train and val"
   ]
  },
  {
   "cell_type": "markdown",
   "id": "07a75851",
   "metadata": {},
   "source": [
    "## Check train, val test dis of PRS before and after processing"
   ]
  },
  {
   "cell_type": "code",
   "execution_count": null,
   "id": "be558dac",
   "metadata": {},
   "outputs": [],
   "source": [
    "labels_path = \"Removed_no_genetic/Data_Final_Same_Test_Balanced_Val/labels/labels.npy\"\n",
    "samples_path = \"Removed_no_genetic/Data_Final_Same_Test_Balanced_Val/samples/\"\n",
    "labels_array = np.load(labels_path)\n",
    "labels = dict()\n",
    "\n",
    "for row in labels_array:\n",
    "    labels[row[0]] = int(row[1])\n",
    "\n",
    "    \n",
    "del labels_array\n",
    "gc.collect()"
   ]
  },
  {
   "cell_type": "code",
   "execution_count": null,
   "id": "06662730",
   "metadata": {},
   "outputs": [],
   "source": [
    "#getting PRS statistics for normalisation\n",
    "train_ecg_ids = train_val_test_dict[\"train\"]\n",
    "train_ids = [int(elem.split(\"_\")[0]) for elem in train_ecg_ids]\n",
    "train_ids = list(dict.fromkeys(train_ids))\n",
    "PRS_train_for_norm = [PRS[PRS[\"anonymous_id\"] == p_id][\"SCORE\"] for p_id in train_ids] \n",
    "train_PRS_mean = np.mean(PRS_train_for_norm)\n",
    "train_PRS_std = np.std(PRS_train_for_norm, ddof=0)\n",
    "\n",
    "print(\"mean train PRS: \", train_PRS_mean , \", standard dev of train PRS: \", train_PRS_std)"
   ]
  },
  {
   "cell_type": "code",
   "execution_count": null,
   "id": "fbd42d8d",
   "metadata": {},
   "outputs": [],
   "source": [
    "PRS"
   ]
  },
  {
   "cell_type": "code",
   "execution_count": null,
   "id": "9e646075",
   "metadata": {},
   "outputs": [],
   "source": [
    "PRS[\"normalised_PRS\"] = (PRS[\"SCORE\"] - train_PRS_mean) /train_PRS_std"
   ]
  },
  {
   "cell_type": "code",
   "execution_count": null,
   "id": "5042d352",
   "metadata": {},
   "outputs": [],
   "source": [
    "PRS[\"rounded_normalised_PRS\"] = round(PRS[\"normalised_PRS\"] * 2) /2"
   ]
  },
  {
   "cell_type": "code",
   "execution_count": null,
   "id": "245fd295",
   "metadata": {},
   "outputs": [],
   "source": [
    "PRS"
   ]
  },
  {
   "cell_type": "code",
   "execution_count": null,
   "id": "d8a74a85",
   "metadata": {},
   "outputs": [],
   "source": [
    "PRS[\"SCORE\"].nunique()"
   ]
  },
  {
   "cell_type": "code",
   "execution_count": null,
   "id": "10e27b48",
   "metadata": {},
   "outputs": [],
   "source": [
    "PRS[\"rounded_normalised_PRS\"].nunique()"
   ]
  },
  {
   "cell_type": "code",
   "execution_count": null,
   "id": "3c07f702",
   "metadata": {},
   "outputs": [],
   "source": [
    "print(\"min, max raw PRS, normalized PRS, rounded PRS: \", min(PRS[\"SCORE\"]), max(PRS[\"SCORE\"]),\n",
    "     min(PRS[\"normalised_PRS\"]), max(PRS[\"normalised_PRS\"]),\n",
    "     min(PRS[\"rounded_normalised_PRS\"]), max(PRS[\"rounded_normalised_PRS\"]))"
   ]
  },
  {
   "cell_type": "code",
   "execution_count": null,
   "id": "37e86652",
   "metadata": {},
   "outputs": [],
   "source": [
    "PRS_train = PRS[PRS[\"anonymous_id\"].isin(train_ids)]"
   ]
  },
  {
   "cell_type": "code",
   "execution_count": null,
   "id": "8f8e8a26",
   "metadata": {},
   "outputs": [],
   "source": [
    "PRS_train"
   ]
  },
  {
   "cell_type": "code",
   "execution_count": null,
   "id": "1b9761b6",
   "metadata": {},
   "outputs": [],
   "source": [
    "PRS_train.nunique()"
   ]
  },
  {
   "cell_type": "code",
   "execution_count": null,
   "id": "c74a780c",
   "metadata": {},
   "outputs": [],
   "source": [
    "a = PRS_train.groupby([\"SCORE\"]).size().reset_index(name=\"Count\")"
   ]
  },
  {
   "cell_type": "code",
   "execution_count": null,
   "id": "59e3c6cc",
   "metadata": {},
   "outputs": [],
   "source": [
    "print(min(a[\"Count\"]), np.mean(a[\"Count\"]), np.median(a[\"Count\"]), max(a[\"Count\"]))"
   ]
  },
  {
   "cell_type": "code",
   "execution_count": null,
   "id": "accf6232",
   "metadata": {},
   "outputs": [],
   "source": [
    "PRS_train[\"label\"] = [0 if int(str(elem)[0])== 1 else 1 for elem in PRS_train[\"anonymous_id\"]]"
   ]
  },
  {
   "cell_type": "code",
   "execution_count": null,
   "id": "3055fb77",
   "metadata": {},
   "outputs": [],
   "source": [
    "PRS_train"
   ]
  },
  {
   "cell_type": "code",
   "execution_count": null,
   "id": "b3745600",
   "metadata": {},
   "outputs": [],
   "source": [
    "b = PRS_train.groupby([\"SCORE\", \"label\"]).size().reset_index(name=\"Count\")"
   ]
  },
  {
   "cell_type": "code",
   "execution_count": null,
   "id": "c8cbf33b",
   "metadata": {},
   "outputs": [],
   "source": [
    "b"
   ]
  },
  {
   "cell_type": "code",
   "execution_count": null,
   "id": "a514c5df",
   "metadata": {},
   "outputs": [],
   "source": [
    "b_0 = b[b[\"label\"]==0]\n",
    "b_1 = b[b[\"label\"]==1]"
   ]
  },
  {
   "cell_type": "code",
   "execution_count": null,
   "id": "76edcdf0",
   "metadata": {},
   "outputs": [],
   "source": [
    "len(list(set(b_0[\"SCORE\"]).intersection(set(b_1[\"SCORE\"]))))"
   ]
  },
  {
   "cell_type": "code",
   "execution_count": null,
   "id": "e5599c5b",
   "metadata": {},
   "outputs": [],
   "source": [
    "print(\"min, max raw PRS, normalized PRS, rounded PRS in train: \", min(PRS_train[\"SCORE\"]), max(PRS_train[\"SCORE\"]),\n",
    "     min(PRS_train[\"normalised_PRS\"]), max(PRS_train[\"normalised_PRS\"]),\n",
    "     min(PRS_train[\"rounded_normalised_PRS\"]), max(PRS_train[\"rounded_normalised_PRS\"]))"
   ]
  },
  {
   "cell_type": "code",
   "execution_count": null,
   "id": "9a8f0505",
   "metadata": {},
   "outputs": [],
   "source": [
    "sns.set(font_scale= 3)\n",
    "sns.set_style(\"white\")\n",
    "sns.displot(PRS_train, x=PRS_train[\"SCORE\"],height=10, aspect=1)\n",
    "plt.xlabel(\"PRS\")\n",
    "plt.savefig(\"raw_PRS_dist.png\")"
   ]
  },
  {
   "cell_type": "code",
   "execution_count": null,
   "id": "91b57d50",
   "metadata": {},
   "outputs": [],
   "source": [
    "sns.displot(PRS_train, x=PRS_train[\"rounded_normalised_PRS\"], bins= np.arange(-3, 3.5, 0.5), height=10, aspect=1)\n",
    "plt.xlabel(\"Rounded normalised PRS\")\n",
    "plt.savefig(\"rounded_normalised_PRS_dist.png\")"
   ]
  },
  {
   "cell_type": "code",
   "execution_count": null,
   "id": "904bbb2e",
   "metadata": {},
   "outputs": [],
   "source": [
    "(0.000069 - 0.0000344) /12"
   ]
  },
  {
   "cell_type": "code",
   "execution_count": null,
   "id": "f089ecac",
   "metadata": {},
   "outputs": [],
   "source": [
    "np.arange(0.0000344, 0.00007, 0.000002883333333333333)"
   ]
  },
  {
   "cell_type": "code",
   "execution_count": null,
   "id": "d171726d",
   "metadata": {},
   "outputs": [],
   "source": [
    "val_ecg_ids = train_val_test_dict[\"val\"]\n",
    "val_ids = [int(elem.split(\"_\")[0]) for elem in val_ecg_ids]\n",
    "val_ids = list(dict.fromkeys(val_ids))\n",
    "\n",
    "PRS_train[PRS_train[\"anonymous_id\"].isin(val_ids)]"
   ]
  },
  {
   "cell_type": "code",
   "execution_count": null,
   "id": "ed210f0c",
   "metadata": {},
   "outputs": [],
   "source": [
    "scores_in_train_and_val = PRS_train[PRS_train[\"anonymous_id\"].isin(val_ids)][\"SCORE\"]"
   ]
  },
  {
   "cell_type": "code",
   "execution_count": null,
   "id": "e168d49a",
   "metadata": {},
   "outputs": [],
   "source": [
    "#got patients that appear in train and val\n",
    "#got counts per PRS in train - number of train patients with the same PRS per PRS\n",
    "#wanna check if PRS appearing in train is a perfect predictor of val\n",
    "#not perfect predictor if PRSs that appear in val can be from multiple patients in train\n",
    "print(\"Min and max  repeated PRS scores in train for patients in the validation set that appear in the training set\")\n",
    "print(min(a[a[\"SCORE\"].isin(scores_in_train_and_val)][\"Count\"]), max(a[a[\"SCORE\"].isin(scores_in_train_and_val)][\"Count\"]))"
   ]
  },
  {
   "cell_type": "code",
   "execution_count": null,
   "id": "e1a43c08",
   "metadata": {},
   "outputs": [],
   "source": []
  }
 ],
 "metadata": {
  "kernelspec": {
   "display_name": "Python 3",
   "language": "python",
   "name": "python3"
  },
  "language_info": {
   "codemirror_mode": {
    "name": "ipython",
    "version": 3
   },
   "file_extension": ".py",
   "mimetype": "text/x-python",
   "name": "python",
   "nbconvert_exporter": "python",
   "pygments_lexer": "ipython3",
   "version": "3.8.8"
  }
 },
 "nbformat": 4,
 "nbformat_minor": 5
}
