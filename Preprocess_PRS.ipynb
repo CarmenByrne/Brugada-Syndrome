{
 "cells": [
  {
   "cell_type": "code",
   "execution_count": null,
   "id": "565d86af",
   "metadata": {},
   "outputs": [],
   "source": [
    "import numpy as np\n",
    "import pandas as pd\n",
    "import matplotlib.pyplot as plt\n",
    "import mcfly\n",
    "from sklearn.model_selection import train_test_split\n",
    "import gc\n",
    "import os\n",
    "from mcfly.find_architecture import train_models_on_samples\n",
    "from sklearn.preprocessing import LabelEncoder\n",
    "from sklearn.preprocessing import OneHotEncoder\n",
    "import tensorflow as tf\n",
    "from imblearn.over_sampling import SMOTE\n",
    "from keras import backend as K\n",
    "import keras\n",
    "import json\n",
    "import csv\n",
    "\n",
    "split_path = \"400_dumped/Final_Data/split/train_val_test.json\""
   ]
  },
  {
   "cell_type": "markdown",
   "id": "7e808602",
   "metadata": {},
   "source": [
    "# conversion table btw datasets"
   ]
  },
  {
   "cell_type": "code",
   "execution_count": null,
   "id": "18c85814",
   "metadata": {},
   "outputs": [],
   "source": [
    "brs_scores = pd.read_csv(\"GeneticData/BRS_PRS_Scores.txt\", sep=\"\\t\")\n",
    "brs_scores['IID'] = brs_scores['IID'].map(lambda a: a.split('_', 1)[1])\n",
    "brs_scores = brs_scores.set_index('IID')\n",
    "print(brs_scores.shape[0])"
   ]
  },
  {
   "cell_type": "code",
   "execution_count": null,
   "id": "986b66a9",
   "metadata": {},
   "outputs": [],
   "source": [
    "ids_translation_table = pd.read_csv(\"GeneticData/merged-dataset-20181231.txt\", sep=\"\\t\")\n",
    "ids_translation_table = ids_translation_table.set_index('IID')\n",
    "print(ids_translation_table.shape[0])"
   ]
  },
  {
   "cell_type": "code",
   "execution_count": null,
   "id": "dfba09bf",
   "metadata": {},
   "outputs": [],
   "source": [
    "brs_translation_table = pd.concat([ids_translation_table[['ID']], brs_scores[['SCORE']]], axis=1)\n",
    "print(brs_scores.shape[0], ids_translation_table.shape[0], brs_translation_table.shape[0], brs_translation_table.dropna().shape[0])\n",
    "brs_translation_table"
   ]
  },
  {
   "cell_type": "code",
   "execution_count": null,
   "id": "76250033",
   "metadata": {},
   "outputs": [],
   "source": [
    "ecg_neg_translation_table = pd.read_csv(\"BrS_negatives_translation_table.csv\", sep=\",\")\n",
    "ecg_pos_translation_table = pd.read_csv(\"BrS_positives_translation_table.csv\", sep=\",\")\n",
    "print(ecg_neg_translation_table.shape[0], ecg_pos_translation_table.shape[0])\n",
    "\n",
    "ecg_translation_table = pd.concat([ecg_neg_translation_table, ecg_pos_translation_table])\n",
    "ecg_translation_table = ecg_translation_table.rename(columns={\"original_patient_id\": \"ID\"})\n",
    "\n",
    "ecg_translation_table = ecg_translation_table.set_index('ID')\n",
    "ids_translation_table = ids_translation_table.reset_index()\n",
    "ids_translation_table = ids_translation_table.set_index('ID')"
   ]
  },
  {
   "cell_type": "code",
   "execution_count": null,
   "id": "a803fcac",
   "metadata": {},
   "outputs": [],
   "source": [
    "ids_translation_table.columns = ids_translation_table.columns.str.replace(' ', '')\n",
    "ecg_translation_table.columns = ecg_translation_table.columns.str.replace(' ', '')\n",
    "brs_translation_table.columns = brs_translation_table.columns.str.replace(' ', '')"
   ]
  },
  {
   "cell_type": "code",
   "execution_count": null,
   "id": "919c9e31",
   "metadata": {},
   "outputs": [],
   "source": [
    "ecg_transl_table = pd.concat([ecg_translation_table, ids_translation_table['IID']], axis=1)\n",
    "print(ecg_translation_table.shape[0], ids_translation_table.shape[0], ecg_transl_table.shape[0], ecg_transl_table.dropna().shape[0])\n",
    "ecg_transl_table = ecg_transl_table.dropna()\n",
    "ecg_transl_table\n",
    "                                                                        "
   ]
  },
  {
   "cell_type": "code",
   "execution_count": null,
   "id": "d774cc97",
   "metadata": {},
   "outputs": [],
   "source": [
    "brs_translation_table = brs_translation_table.dropna()\n",
    "brs_translation_table = brs_translation_table.reset_index()\n",
    "brs_translation_table = brs_translation_table.set_index('ID')\n",
    "brs_translation_table"
   ]
  },
  {
   "cell_type": "code",
   "execution_count": null,
   "id": "47576978",
   "metadata": {},
   "outputs": [],
   "source": [
    "genetic_data_available = pd.concat([ecg_transl_table, brs_translation_table], axis=1)\n",
    "genetic_data_available = genetic_data_available.dropna()\n",
    "genetic_data_available = genetic_data_available.reset_index()\n",
    "genetic_data_available = genetic_data_available.T.drop_duplicates().T\n",
    "genetic_data_available = genetic_data_available[['anonymous_id', 'SCORE']]\n",
    "genetic_data_available['anonymous_id'] = genetic_data_available['anonymous_id'].astype(int)"
   ]
  },
  {
   "cell_type": "code",
   "execution_count": null,
   "id": "6aea9d41",
   "metadata": {},
   "outputs": [],
   "source": [
    "with open(\"GeneticData/available_BRS_PRS.txt\", 'w') as f:\n",
    "# create the csv writer\n",
    "    writer = csv.writer(f)\n",
    "\n",
    "    header = np.array(genetic_data_available.columns)\n",
    "    writer.writerow(header)\n",
    "    for row in range(genetic_data_available.shape[0]):\n",
    "        # write a row to the csv file\n",
    "        writer.writerow(np.array(genetic_data_available.iloc[row]))"
   ]
  },
  {
   "cell_type": "code",
   "execution_count": null,
   "id": "d692a593",
   "metadata": {},
   "outputs": [],
   "source": []
  }
 ],
 "metadata": {
  "kernelspec": {
   "display_name": "Python 3",
   "language": "python",
   "name": "python3"
  },
  "language_info": {
   "codemirror_mode": {
    "name": "ipython",
    "version": 3
   },
   "file_extension": ".py",
   "mimetype": "text/x-python",
   "name": "python",
   "nbconvert_exporter": "python",
   "pygments_lexer": "ipython3",
   "version": "3.8.8"
  }
 },
 "nbformat": 4,
 "nbformat_minor": 5
}
