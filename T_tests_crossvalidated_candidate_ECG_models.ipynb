{
 "cells": [
  {
   "cell_type": "code",
   "execution_count": null,
   "id": "db822b1b",
   "metadata": {},
   "outputs": [],
   "source": [
    "import pandas as pd\n",
    "import numpy as np\n",
    "import scipy.stats as stats"
   ]
  },
  {
   "cell_type": "code",
   "execution_count": null,
   "id": "1d5aa3e3",
   "metadata": {},
   "outputs": [],
   "source": [
    "col_names = [\"TN\", \"FP\", \"FN\", \"TP\", \"matthews\", \"PPV = precision\", \"recall\", \"TNR = specificity\", \"FNR\", \"accuracy\", \"f1\", \"AUC\", \"AUPRC\", \"Brier\"]\n",
    "mod_0 = pd.read_csv(\"400_dumped/CrossValidation/Model0/t_test_data.csv\", names = col_names)\n",
    "mod_1 = pd.read_csv(\"400_dumped/CrossValidation/Model1/t_test_data.csv\", names = col_names)\n",
    "mod_6 = pd.read_csv(\"400_dumped/CrossValidation/Model6/t_test_data.csv\", names = col_names)"
   ]
  },
  {
   "cell_type": "code",
   "execution_count": null,
   "id": "f0d245b1",
   "metadata": {},
   "outputs": [],
   "source": [
    "mod_0"
   ]
  },
  {
   "cell_type": "code",
   "execution_count": null,
   "id": "1452f194",
   "metadata": {},
   "outputs": [],
   "source": [
    "mod_1"
   ]
  },
  {
   "cell_type": "code",
   "execution_count": null,
   "id": "67b2ea55",
   "metadata": {},
   "outputs": [],
   "source": [
    "mod_6"
   ]
  },
  {
   "cell_type": "markdown",
   "id": "0b9084f2",
   "metadata": {},
   "source": [
    "# Check variances"
   ]
  },
  {
   "cell_type": "code",
   "execution_count": null,
   "id": "68360ae3",
   "metadata": {},
   "outputs": [],
   "source": [
    "def check_equal_vars(mod_a, mod_b):\n",
    "    var_A = []\n",
    "    var_B = []\n",
    "    var_ratios = []\n",
    "    \n",
    "    for idx in range(mod_a.shape[1]):\n",
    "        var_a = np.var(mod_a.iloc[:,idx])\n",
    "        var_b = np.var(mod_b.iloc[:,idx])\n",
    "        \n",
    "        if var_a > var_b:\n",
    "            ratio = var_a/var_b\n",
    "        else:\n",
    "            ratio = var_b/var_a\n",
    "        \n",
    "        var_ratios.append(ratio)\n",
    "        var_A.append(var_a)\n",
    "        var_B.append(var_b)\n",
    "        \n",
    "    return var_A, var_B, var_ratios"
   ]
  },
  {
   "cell_type": "code",
   "execution_count": null,
   "id": "2b7ac77f",
   "metadata": {},
   "outputs": [],
   "source": [
    "var0, var1, var01 = check_equal_vars(mod_0, mod_1)\n",
    "var01"
   ]
  },
  {
   "cell_type": "code",
   "execution_count": null,
   "id": "fff7bd7f",
   "metadata": {},
   "outputs": [],
   "source": [
    "var0, var6, var06 = check_equal_vars(mod_0, mod_6)\n",
    "var06"
   ]
  },
  {
   "cell_type": "code",
   "execution_count": null,
   "id": "6be66180",
   "metadata": {},
   "outputs": [],
   "source": [
    "var1, var6, var16 = check_equal_vars(mod_1, mod_6)\n",
    "var16"
   ]
  },
  {
   "cell_type": "code",
   "execution_count": null,
   "id": "fd865cc3",
   "metadata": {},
   "outputs": [],
   "source": [
    "#all scores are based on first 4 values, some scores are larger than 4.5, no reason to believe same variance for other scores since they are all based on the same metrics\n",
    "#perform test for different variance"
   ]
  },
  {
   "cell_type": "markdown",
   "id": "348e892e",
   "metadata": {},
   "source": [
    "# T-tests"
   ]
  },
  {
   "cell_type": "code",
   "execution_count": null,
   "id": "f07af345",
   "metadata": {},
   "outputs": [],
   "source": [
    "#use bonferroni correction: sig level = 0.05 since make three tests mod0 vs mod 1, mod0 vs mod6, and mod 1 vs mod6\n",
    "#H0: metric_meanA = metric_meanB\n",
    "#H1: metric_meanA != metric_meanB\n",
    "\n",
    "alpha = 0.05/2\n",
    "\n",
    "def t_test(mod_a, mod_b, alpha):\n",
    "    p_values = []\n",
    "    reject_H0 = []\n",
    "    \n",
    "    for idx in range(mod_a.shape[1]):        \n",
    "        p_val = stats.ttest_ind(a=mod_a.iloc[:,idx], b=mod_b.iloc[:,idx], equal_var = False)[1]\n",
    "        if p_val <= alpha:\n",
    "            decision= True\n",
    "\n",
    "        else:\n",
    "            decision = False        \n",
    "        \n",
    "        p_values.append(p_val)\n",
    "        reject_H0.append(decision)\n",
    "     \n",
    "    return p_values, reject_H0"
   ]
  },
  {
   "cell_type": "code",
   "execution_count": null,
   "id": "fdb68c45",
   "metadata": {},
   "outputs": [],
   "source": [
    "#p_val01, reject_01 = t_test(mod_0, mod_1, alpha)\n",
    "#print(p_val01)\n",
    "#print(reject_01)"
   ]
  },
  {
   "cell_type": "code",
   "execution_count": null,
   "id": "2c1e9152",
   "metadata": {},
   "outputs": [],
   "source": [
    "p_val06, reject_06 = t_test(mod_0, mod_6, alpha)\n",
    "print(p_val06)\n",
    "print(reject_06)"
   ]
  },
  {
   "cell_type": "code",
   "execution_count": null,
   "id": "ffba0a66",
   "metadata": {},
   "outputs": [],
   "source": [
    "p_val16, reject_16 = t_test(mod_1, mod_6, alpha)\n",
    "print(p_val16)\n",
    "print(reject_16)"
   ]
  },
  {
   "cell_type": "code",
   "execution_count": null,
   "id": "8f48c065",
   "metadata": {},
   "outputs": [],
   "source": [
    "#no significant differences"
   ]
  },
  {
   "cell_type": "code",
   "execution_count": null,
   "id": "420450c6",
   "metadata": {},
   "outputs": [],
   "source": [
    "#use bonferroni correction: sig level = 0.05 since make three tests mod0 vs mod 1, mod0 vs mod6, and mod 1 vs mod6\n",
    "#H0: metric_meanA = metric_meanB\n",
    "#H1: metric_meanA != metric_meanB\n",
    "\n",
    "alpha = 0.05/2\n",
    "\n",
    "def t_test(mod_a, mod_b, alpha):\n",
    "    p_values = []\n",
    "    reject_H0 = []\n",
    "    \n",
    "    for idx in range(mod_a.shape[1]):        \n",
    "        p_val = stats.ttest_ind(a=mod_a.iloc[:,idx], b=mod_b.iloc[:,idx], equal_var = True)[1]\n",
    "        if p_val <= alpha:\n",
    "            decision= True\n",
    "\n",
    "        else:\n",
    "            decision = False        \n",
    "        \n",
    "        p_values.append(p_val)\n",
    "        reject_H0.append(decision)\n",
    "     \n",
    "    return p_values, reject_H0"
   ]
  },
  {
   "cell_type": "code",
   "execution_count": null,
   "id": "89ed0c8c",
   "metadata": {},
   "outputs": [],
   "source": [
    "p_val06, reject_06 = t_test(mod_0, mod_6, alpha)\n",
    "print(p_val06)\n",
    "print(reject_06)"
   ]
  },
  {
   "cell_type": "code",
   "execution_count": null,
   "id": "93403bca",
   "metadata": {},
   "outputs": [],
   "source": [
    "p_val16, reject_16 = t_test(mod_1, mod_6, alpha)\n",
    "print(p_val16)\n",
    "print(reject_16)"
   ]
  },
  {
   "cell_type": "code",
   "execution_count": null,
   "id": "5a92ae63",
   "metadata": {},
   "outputs": [],
   "source": []
  }
 ],
 "metadata": {
  "kernelspec": {
   "display_name": "Python 3",
   "language": "python",
   "name": "python3"
  },
  "language_info": {
   "codemirror_mode": {
    "name": "ipython",
    "version": 3
   },
   "file_extension": ".py",
   "mimetype": "text/x-python",
   "name": "python",
   "nbconvert_exporter": "python",
   "pygments_lexer": "ipython3",
   "version": "3.8.8"
  }
 },
 "nbformat": 4,
 "nbformat_minor": 5
}
